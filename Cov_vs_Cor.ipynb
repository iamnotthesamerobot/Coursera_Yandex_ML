{
 "cells": [
  {
   "cell_type": "markdown",
   "metadata": {},
   "source": [
    "### Что такое ковариация, чем она отличается от корреляции. В чем плюсы и минусы каждой из этих математических мер. "
   ]
  },
  {
   "cell_type": "markdown",
   "metadata": {},
   "source": [
    "### 1. Ковариация"
   ]
  },
  {
   "cell_type": "markdown",
   "metadata": {},
   "source": [
    "Ковариация (корреляционный момент, ковариационный момент) в теории вероятностей и математической статистике это мера линейной зависимости двух случайных величин. Когда есть X и Y - две случайные величины, определённые на одном и том же вероятностном пространстве, то их ковариация определяется следующим образом:\n",
    "\n",
    "$$ cov(X, Y) = M((X - M(X))(Y - M(T))) $$\n",
    "\n",
    "где $М$ - это оператор математического ожидания "
   ]
  },
  {
   "cell_type": "markdown",
   "metadata": {},
   "source": [
    "Применительно к анализу данных это определение для расчета ковариации выборки можно переформулировать следующим образом:\n",
    "\n",
    "$covariance(x,y)= sum((x_n - x_{mean})(y_n - y_{mean}))/(N-1)$\n",
    "\n",
    "Где \n",
    "\n",
    "$x_n$ = значение признака X по конкретному наблюдению , \n",
    "\n",
    "$x_{mean}$ = среднее по массиву признаков X, \n",
    "\n",
    "$y_n$ = значение признака Y по конкретному наблюдению , \n",
    "\n",
    "$y_{mean}$ = среднее по массиву признаков Y, \n",
    "\n",
    "$N$ = количество наблюдений."
   ]
  },
  {
   "cell_type": "markdown",
   "metadata": {},
   "source": [
    "#### Продемонстрируем ковариацию на примере, для чего сгенерируем учебную выборку.\n",
    "Пусть это будут якобы наблюдения о показах рекламных роликов и продажах какого-то товара, где и те и другие данные мы генерируем случайным образом. "
   ]
  },
  {
   "cell_type": "code",
   "execution_count": 2,
   "metadata": {},
   "outputs": [
    {
     "data": {
      "text/html": [
       "<div>\n",
       "<style scoped>\n",
       "    .dataframe tbody tr th:only-of-type {\n",
       "        vertical-align: middle;\n",
       "    }\n",
       "\n",
       "    .dataframe tbody tr th {\n",
       "        vertical-align: top;\n",
       "    }\n",
       "\n",
       "    .dataframe thead th {\n",
       "        text-align: right;\n",
       "    }\n",
       "</style>\n",
       "<table border=\"1\" class=\"dataframe\">\n",
       "  <thead>\n",
       "    <tr style=\"text-align: right;\">\n",
       "      <th></th>\n",
       "      <th>Показы рекламных роликов</th>\n",
       "      <th>Продано изделий</th>\n",
       "    </tr>\n",
       "  </thead>\n",
       "  <tbody>\n",
       "    <tr>\n",
       "      <th>0</th>\n",
       "      <td>12</td>\n",
       "      <td>15</td>\n",
       "    </tr>\n",
       "    <tr>\n",
       "      <th>1</th>\n",
       "      <td>0</td>\n",
       "      <td>3</td>\n",
       "    </tr>\n",
       "    <tr>\n",
       "      <th>2</th>\n",
       "      <td>3</td>\n",
       "      <td>7</td>\n",
       "    </tr>\n",
       "  </tbody>\n",
       "</table>\n",
       "</div>"
      ],
      "text/plain": [
       "   Показы рекламных роликов  Продано изделий\n",
       "0                        12               15\n",
       "1                         0                3\n",
       "2                         3                7"
      ]
     },
     "execution_count": 2,
     "metadata": {},
     "output_type": "execute_result"
    }
   ],
   "source": [
    "import os\n",
    "import pandas as pd\n",
    "import numpy as np\n",
    "# установим seed для воспроизводимости результатов \n",
    "np.random.seed(0)\n",
    "df = pd.DataFrame(np.random.randint(low= 0, high= 20, size= (50, 2)), \n",
    "                  columns= ['Показы рекламных роликов', 'Продано изделий'])\n",
    "df.head(3)"
   ]
  },
  {
   "cell_type": "markdown",
   "metadata": {},
   "source": [
    "#### Сделаем расчет ковариации для пары признаков выборки в соответствии с приведенной выше формулой"
   ]
  },
  {
   "cell_type": "code",
   "execution_count": 130,
   "metadata": {},
   "outputs": [
    {
     "data": {
      "text/plain": [
       "8.944489795918367"
      ]
     },
     "execution_count": 130,
     "metadata": {},
     "output_type": "execute_result"
    }
   ],
   "source": [
    "def covariance(feature_x, feature_y):\n",
    "    cov = 0\n",
    "    for i in range(len(feature_x)):\n",
    "        a = (feature_x[i] - feature_x.mean())\n",
    "        b = (feature_y[i] - feature_y.mean())\n",
    "        c  = a * b\n",
    "        cov += c\n",
    "    covariance_xy = cov/(len(feature_x) - 1)\n",
    "    return covariance_xy \n",
    "    \n",
    "covariance(df['Показы рекламных роликов'], df['Продано изделий'])"
   ]
  },
  {
   "cell_type": "markdown",
   "metadata": {},
   "source": [
    "Сделаем проверку правильности написания функции, используя стандартную "
   ]
  },
  {
   "cell_type": "code",
   "execution_count": 131,
   "metadata": {},
   "outputs": [
    {
     "data": {
      "text/html": [
       "<div>\n",
       "<style scoped>\n",
       "    .dataframe tbody tr th:only-of-type {\n",
       "        vertical-align: middle;\n",
       "    }\n",
       "\n",
       "    .dataframe tbody tr th {\n",
       "        vertical-align: top;\n",
       "    }\n",
       "\n",
       "    .dataframe thead th {\n",
       "        text-align: right;\n",
       "    }\n",
       "</style>\n",
       "<table border=\"1\" class=\"dataframe\">\n",
       "  <thead>\n",
       "    <tr style=\"text-align: right;\">\n",
       "      <th></th>\n",
       "      <th>Показы рекламных роликов</th>\n",
       "      <th>Продано изделий</th>\n",
       "    </tr>\n",
       "  </thead>\n",
       "  <tbody>\n",
       "    <tr>\n",
       "      <th>Показы рекламных роликов</th>\n",
       "      <td>33.446531</td>\n",
       "      <td>8.944490</td>\n",
       "    </tr>\n",
       "    <tr>\n",
       "      <th>Продано изделий</th>\n",
       "      <td>8.944490</td>\n",
       "      <td>41.626122</td>\n",
       "    </tr>\n",
       "  </tbody>\n",
       "</table>\n",
       "</div>"
      ],
      "text/plain": [
       "                          Показы рекламных роликов  Продано изделий\n",
       "Показы рекламных роликов                 33.446531         8.944490\n",
       "Продано изделий                           8.944490        41.626122"
      ]
     },
     "execution_count": 131,
     "metadata": {},
     "output_type": "execute_result"
    }
   ],
   "source": [
    "df[['Показы рекламных роликов', 'Продано изделий']].cov()"
   ]
  },
  {
   "cell_type": "markdown",
   "metadata": {},
   "source": [
    "Результат совпадает.\n",
    "\n",
    "#### Перечислим и продемонстрируем несколько основных свойств ковариации."
   ]
  },
  {
   "cell_type": "markdown",
   "metadata": {},
   "source": [
    "#### Ковариация случайной величины с самой собой есть ее дисперсия\n",
    "\n",
    "Дисперсия (variance, \n",
    "$s^2$\n",
    ") - это мера того, насколько данные отличаются от среднего значения. Дисперсию можно представить в виде следующей формулы:\n",
    "\n",
    "$s^2 = sum((x_n - x_{mean})^2) / (N-1)$\n",
    "\n",
    "Где \n",
    "\n",
    "$x_n$ = значение признака X по конкретному наблюдению, \n",
    "\n",
    "$x_{mean}$ = среднее по массиву признаков X, \n",
    "\n",
    "$N$ = количество наблюдений."
   ]
  },
  {
   "cell_type": "markdown",
   "metadata": {},
   "source": [
    "#### Cделаем расчет дисперсии для показателя 'Показы рекламных роликов' "
   ]
  },
  {
   "cell_type": "code",
   "execution_count": 132,
   "metadata": {},
   "outputs": [
    {
     "data": {
      "text/plain": [
       "33.44653061224489"
      ]
     },
     "execution_count": 132,
     "metadata": {},
     "output_type": "execute_result"
    }
   ],
   "source": [
    "def variance(feature_x):\n",
    "    var = []\n",
    "    for i in range(len(feature_x)):\n",
    "        v = (feature_x[i] - feature_x.mean())**2        \n",
    "        var.append(v)\n",
    "    variance_x = sum(var)/(len(df['Показы рекламных роликов']) - 1) \n",
    "    return variance_x\n",
    "\n",
    "variance(df['Показы рекламных роликов'])"
   ]
  },
  {
   "cell_type": "code",
   "execution_count": 176,
   "metadata": {},
   "outputs": [
    {
     "data": {
      "text/plain": [
       "33.44653061224489"
      ]
     },
     "execution_count": 176,
     "metadata": {},
     "output_type": "execute_result"
    }
   ],
   "source": [
    "covariance(df['Показы рекламных роликов'], df['Показы рекламных роликов'])"
   ]
  },
  {
   "cell_type": "markdown",
   "metadata": {},
   "source": [
    "Cделаем проверку полученного значения, используя стандартную функцию"
   ]
  },
  {
   "cell_type": "code",
   "execution_count": 133,
   "metadata": {},
   "outputs": [
    {
     "data": {
      "text/plain": [
       "33.44653061224489"
      ]
     },
     "execution_count": 133,
     "metadata": {},
     "output_type": "execute_result"
    }
   ],
   "source": [
    "df['Показы рекламных роликов'].var()\n",
    "# результат совпадает"
   ]
  },
  {
   "cell_type": "markdown",
   "metadata": {},
   "source": [
    "#### Ковариация симметрична"
   ]
  },
  {
   "cell_type": "code",
   "execution_count": 134,
   "metadata": {},
   "outputs": [
    {
     "data": {
      "text/plain": [
       "8.944489795918367"
      ]
     },
     "metadata": {},
     "output_type": "display_data"
    },
    {
     "data": {
      "text/plain": [
       "8.944489795918367"
      ]
     },
     "execution_count": 134,
     "metadata": {},
     "output_type": "execute_result"
    }
   ],
   "source": [
    "display(covariance(df['Показы рекламных роликов'], df['Продано изделий']))\n",
    "covariance(df['Продано изделий'], df['Показы рекламных роликов'])"
   ]
  },
  {
   "cell_type": "markdown",
   "metadata": {},
   "source": [
    "#### Если случайные X, Y независимы, то ковариация равна 0"
   ]
  },
  {
   "cell_type": "code",
   "execution_count": 47,
   "metadata": {},
   "outputs": [
    {
     "data": {
      "text/plain": [
       "0.9625945945945955"
      ]
     },
     "metadata": {},
     "output_type": "display_data"
    },
    {
     "data": {
      "text/plain": [
       "317.74187987987966"
      ]
     },
     "metadata": {},
     "output_type": "display_data"
    },
    {
     "name": "stdout",
     "output_type": "stream",
     "text": [
      "наблюдаем, что там, где есть зависимость, показатель существенно вырос\n"
     ]
    }
   ],
   "source": [
    "np.random.seed(0)\n",
    "df_1a = pd.DataFrame(np.random.randint(low= 0, high= 20, size= (1000, 3)), \n",
    "                  columns= ['Показы рекламных роликов', 'Продано изделий', 'Шум'])\n",
    "\n",
    "df_2 = df_1a.copy()\n",
    "df_2['Продано изделий'] = df_2['Показы рекламных роликов']*df_2['Шум']\n",
    "display(df_1a['Показы рекламных роликов'].cov(df_1['Продано изделий']))\n",
    "display(df_2['Показы рекламных роликов'].cov(df_2['Продано изделий']))\n",
    "print 'наблюдаем, что там, где есть зависимость, показатель существенно вырос'"
   ]
  },
  {
   "cell_type": "markdown",
   "metadata": {},
   "source": [
    "#### Одноременно мы можем маблюдать, что изменение масштаба переменных влияет на значение величины ковариации. \n",
    "Кроме того, отрицательное значение является индикатором отрицательных отношений, тогда как положительное значение представляет собой положительные отношения. \n",
    "А когда значение равно нулю, это указывает на отсутствие связи. \n",
    "В дополнение к этому, когда все наблюдения одной и той же переменной совпадают, ковариация тоже будет равна нулю. Давайте убедимся в этом на практике"
   ]
  },
  {
   "cell_type": "code",
   "execution_count": 48,
   "metadata": {},
   "outputs": [
    {
     "data": {
      "text/html": [
       "<div>\n",
       "<style scoped>\n",
       "    .dataframe tbody tr th:only-of-type {\n",
       "        vertical-align: middle;\n",
       "    }\n",
       "\n",
       "    .dataframe tbody tr th {\n",
       "        vertical-align: top;\n",
       "    }\n",
       "\n",
       "    .dataframe thead th {\n",
       "        text-align: right;\n",
       "    }\n",
       "</style>\n",
       "<table border=\"1\" class=\"dataframe\">\n",
       "  <thead>\n",
       "    <tr style=\"text-align: right;\">\n",
       "      <th></th>\n",
       "      <th>Показы рекламных роликов</th>\n",
       "      <th>Продано изделий</th>\n",
       "    </tr>\n",
       "  </thead>\n",
       "  <tbody>\n",
       "    <tr>\n",
       "      <th>Показы рекламных роликов</th>\n",
       "      <td>33.830349</td>\n",
       "      <td>0.814763</td>\n",
       "    </tr>\n",
       "    <tr>\n",
       "      <th>Продано изделий</th>\n",
       "      <td>0.814763</td>\n",
       "      <td>34.275892</td>\n",
       "    </tr>\n",
       "  </tbody>\n",
       "</table>\n",
       "</div>"
      ],
      "text/plain": [
       "                          Показы рекламных роликов  Продано изделий\n",
       "Показы рекламных роликов                 33.830349         0.814763\n",
       "Продано изделий                           0.814763        34.275892"
      ]
     },
     "metadata": {},
     "output_type": "display_data"
    },
    {
     "data": {
      "text/html": [
       "<div>\n",
       "<style scoped>\n",
       "    .dataframe tbody tr th:only-of-type {\n",
       "        vertical-align: middle;\n",
       "    }\n",
       "\n",
       "    .dataframe tbody tr th {\n",
       "        vertical-align: top;\n",
       "    }\n",
       "\n",
       "    .dataframe thead th {\n",
       "        text-align: right;\n",
       "    }\n",
       "</style>\n",
       "<table border=\"1\" class=\"dataframe\">\n",
       "  <thead>\n",
       "    <tr style=\"text-align: right;\">\n",
       "      <th></th>\n",
       "      <th>Показы рекламных роликов</th>\n",
       "      <th>Продано изделий</th>\n",
       "    </tr>\n",
       "  </thead>\n",
       "  <tbody>\n",
       "    <tr>\n",
       "      <th>Показы рекламных роликов</th>\n",
       "      <td>845.758734</td>\n",
       "      <td>20.369069</td>\n",
       "    </tr>\n",
       "    <tr>\n",
       "      <th>Продано изделий</th>\n",
       "      <td>20.369069</td>\n",
       "      <td>856.897297</td>\n",
       "    </tr>\n",
       "  </tbody>\n",
       "</table>\n",
       "</div>"
      ],
      "text/plain": [
       "                          Показы рекламных роликов  Продано изделий\n",
       "Показы рекламных роликов                845.758734        20.369069\n",
       "Продано изделий                          20.369069       856.897297"
      ]
     },
     "metadata": {},
     "output_type": "display_data"
    },
    {
     "data": {
      "text/html": [
       "<div>\n",
       "<style scoped>\n",
       "    .dataframe tbody tr th:only-of-type {\n",
       "        vertical-align: middle;\n",
       "    }\n",
       "\n",
       "    .dataframe tbody tr th {\n",
       "        vertical-align: top;\n",
       "    }\n",
       "\n",
       "    .dataframe thead th {\n",
       "        text-align: right;\n",
       "    }\n",
       "</style>\n",
       "<table border=\"1\" class=\"dataframe\">\n",
       "  <thead>\n",
       "    <tr style=\"text-align: right;\">\n",
       "      <th></th>\n",
       "      <th>Показы рекламных роликов</th>\n",
       "      <th>Продано изделий</th>\n",
       "    </tr>\n",
       "  </thead>\n",
       "  <tbody>\n",
       "    <tr>\n",
       "      <th>Показы рекламных роликов</th>\n",
       "      <td>33.830349</td>\n",
       "      <td>-845.758734</td>\n",
       "    </tr>\n",
       "    <tr>\n",
       "      <th>Продано изделий</th>\n",
       "      <td>-845.758734</td>\n",
       "      <td>21143.968343</td>\n",
       "    </tr>\n",
       "  </tbody>\n",
       "</table>\n",
       "</div>"
      ],
      "text/plain": [
       "                          Показы рекламных роликов  Продано изделий\n",
       "Показы рекламных роликов                 33.830349      -845.758734\n",
       "Продано изделий                        -845.758734     21143.968343"
      ]
     },
     "metadata": {},
     "output_type": "display_data"
    },
    {
     "data": {
      "text/html": [
       "<div>\n",
       "<style scoped>\n",
       "    .dataframe tbody tr th:only-of-type {\n",
       "        vertical-align: middle;\n",
       "    }\n",
       "\n",
       "    .dataframe tbody tr th {\n",
       "        vertical-align: top;\n",
       "    }\n",
       "\n",
       "    .dataframe thead th {\n",
       "        text-align: right;\n",
       "    }\n",
       "</style>\n",
       "<table border=\"1\" class=\"dataframe\">\n",
       "  <thead>\n",
       "    <tr style=\"text-align: right;\">\n",
       "      <th></th>\n",
       "      <th>Показы рекламных роликов</th>\n",
       "      <th>Продано изделий</th>\n",
       "    </tr>\n",
       "  </thead>\n",
       "  <tbody>\n",
       "    <tr>\n",
       "      <th>Показы рекламных роликов</th>\n",
       "      <td>33.830349</td>\n",
       "      <td>0.0</td>\n",
       "    </tr>\n",
       "    <tr>\n",
       "      <th>Продано изделий</th>\n",
       "      <td>0.000000</td>\n",
       "      <td>0.0</td>\n",
       "    </tr>\n",
       "  </tbody>\n",
       "</table>\n",
       "</div>"
      ],
      "text/plain": [
       "                          Показы рекламных роликов  Продано изделий\n",
       "Показы рекламных роликов                 33.830349              0.0\n",
       "Продано изделий                           0.000000              0.0"
      ]
     },
     "execution_count": 48,
     "metadata": {},
     "output_type": "execute_result"
    }
   ],
   "source": [
    "np.random.seed(0)\n",
    "df_1 = pd.DataFrame(np.random.randint(low= 0, high= 20, size= (1000, 2)), \n",
    "                  columns= ['Показы рекламных роликов', 'Продано изделий'])\n",
    "df_3 = df_1.copy()\n",
    "df_4 = df_1.copy()\n",
    "df_5 = df_1.copy()\n",
    "\n",
    "df_3 = df_3 * 5\n",
    "df_4['Продано изделий'] = df_3['Показы рекламных роликов']*(-5)\n",
    "df_5['Продано изделий'] = df_3['Показы рекламных роликов']*0\n",
    "display(df_1.cov())\n",
    "display(df_3.cov())\n",
    "display(df_4.cov())\n",
    "df_5.cov()"
   ]
  },
  {
   "cell_type": "markdown",
   "metadata": {},
   "source": [
    "Высказанные выше предположения подтверждены. Еще, отсюда можно сделать вывод, что ковариация может принимать любое значение в диапазоне от -∞ до + ∞."
   ]
  },
  {
   "cell_type": "markdown",
   "metadata": {},
   "source": [
    "#### Смысл ковариации в том, что она измеряет синхронность отклонений признаков от их средних  значений (математических ожиданий). То есть, если наблюдение индивидуального признака $x_n$ отклоняется от среднего $x_{mean}$ в большую сторону, то следует ожидать, что значение индивидуального признака $y_n$ также отклоняется от среднего $y_{mean}$ в большую сторону.\n",
    "\n",
    "#### Плюсы и минусы ковариации \n",
    "\n",
    "Если ковариация отлична от нуля, то величины $X$ и $Y$ зависимы. Чтобы судить о наличии зависимости согласно любому из определений независимости, требуется знать совместное распределение пары $X$ и $Y$. Но найти совместное распределение часто бывает сложнее, чем посчитать математическое ожидание произведения $X$ и $Y$. Если математическое ожидание произведения $X$ и $Y$ и не будет равняться произведению их математических ожиданий, мы скажем, что $X$ и $Y$ зависимы, не находя их совместного распределения. В этом плюс ковариации. \n",
    "\n",
    "Однако только по абсолютному значению ковариации нельзя судить о том, насколько сильно величины взаимосвязаны, так как её масштаб, как мы увидели выше, зависит от их дисперсий. Это можно отнести к ее недостаткам. \n",
    "\n",
    "Масштаб можно отнормировать, поделив значение ковариации на произведение среднеквадратических отклонений (квадратных корней из дисперсий). При этом получается так называемый коэффициент корреляции Пирсона, который всегда находится в интервале от −1 до 1, к которому мы сейчас и перейдем.\n",
    "\n"
   ]
  },
  {
   "cell_type": "markdown",
   "metadata": {},
   "source": [
    "### 1. Корреляция"
   ]
  },
  {
   "cell_type": "markdown",
   "metadata": {},
   "source": [
    "В общем смысле корреляция = это зависимость между случайными величинами, при которой изменение одной величины неизбежно приводит к изменению математического ожидания другой.\n",
    "Корреляционная связь является неполной зависимостью, то есть она проявляется не в каждом отдельном случае, а только в средних величинах при достаточно большом количестве случаев.\n",
    "Корреляционный анализ состоит в определении степени связи между двумя случайными величинами $X$ и $Y$. В качестве меры такой связи используется коэффициент корреляции. Коэффициент корреляции оценивается по выборке объема $n$ связанных пар наблюдений ($x_i, y_i$) из совместной генеральной совокупности $X$ и $Y$. Существует несколько типов коэффициентов корреляции, применение которых зависит от измерения (способа шкалирования) величин $X$ и $Y$.\n",
    "Для оценки степени взаимосвязи величин $X$ и $Y$, измеренных в количественных шкалах, используется коэффициент линейной корреляции (коэффициент Пирсона), предполагающий, что выборки $X$ и $Y$ распределены по нормальному закону. \n",
    "\n",
    "#### коэффициент корреляции Пирсона\n",
    "\n",
    "Формула коэффициента корреляции Пирсона выглядит следующим образом:\n",
    "\n",
    "$r(x,y)= sum(x_n - x_mean)(y_n - y_mean)/((N-1)SD_xSD_y)$\n",
    "\n",
    "Где \n",
    "\n",
    "$x_n$ = значение признака $Х$ для конкретного объекта \n",
    "\n",
    "$x_{mean}$ = среднее значение признака $Х$\n",
    "\n",
    "$SD_x$ = стандартное отклонение по признаку $X$. \n",
    "\n",
    "$N$ = количество наблюдений.\n",
    "\n",
    "Среднеквадратическое отклонение‭ $(‬SD‭)$ ‬-‭ ‬это показатель рассеяния значений во множестве данных относительно их математического ожидания.‭ ‬Символом среднеквадратического отклонения является‭ ‬σ‭(‬сигма‭)‬.‭ ‬Можно также сказать,‭ ‬что это показатель изменчивости или дисперсии в этом множестве данных.\n",
    "\n",
    "$SD = \\sqrt( \\sum((x_n - x_{mean})^2)/(N-1) )$ \n"
   ]
  },
  {
   "cell_type": "markdown",
   "metadata": {},
   "source": [
    "Для демонстрации напишем функцию для расчета коэффициента корреляции Пирсона для пары признаков и рассчитаем коэффициент корреляции ранее созданной выборки."
   ]
  },
  {
   "cell_type": "code",
   "execution_count": 49,
   "metadata": {},
   "outputs": [],
   "source": [
    "from math import sqrt\n",
    "\n",
    "def SD(feature):\n",
    "    cor = 0\n",
    "    for i in range(len(feature)):\n",
    "        a = (feature[i] - feature.mean())**2\n",
    "        cor += a\n",
    "    return sqrt(cor / (len(feature) - 1))\n",
    "\n",
    "def correlation(feature_x, feature_y):\n",
    "    cor = 0\n",
    "    for i in range(len(feature_x)):\n",
    "        a = (feature_x[i] - feature_x.mean())\n",
    "        b = (feature_y[i] - feature_y.mean())\n",
    "        c  = a * b\n",
    "        cor += c\n",
    "    correlation_xy  = cor/((len(feature_x) - 1)*SD(feature_x)*SD(feature_y))\n",
    "    return correlation_xy"
   ]
  },
  {
   "cell_type": "markdown",
   "metadata": {},
   "source": [
    "Сделаем проверку полученного значения, используя стандартную функцию и убедимся, что результат совпадает"
   ]
  },
  {
   "cell_type": "code",
   "execution_count": 52,
   "metadata": {},
   "outputs": [
    {
     "data": {
      "text/plain": [
       "0.023926741009954473"
      ]
     },
     "metadata": {},
     "output_type": "display_data"
    },
    {
     "data": {
      "text/html": [
       "<div>\n",
       "<style scoped>\n",
       "    .dataframe tbody tr th:only-of-type {\n",
       "        vertical-align: middle;\n",
       "    }\n",
       "\n",
       "    .dataframe tbody tr th {\n",
       "        vertical-align: top;\n",
       "    }\n",
       "\n",
       "    .dataframe thead th {\n",
       "        text-align: right;\n",
       "    }\n",
       "</style>\n",
       "<table border=\"1\" class=\"dataframe\">\n",
       "  <thead>\n",
       "    <tr style=\"text-align: right;\">\n",
       "      <th></th>\n",
       "      <th>Показы рекламных роликов</th>\n",
       "      <th>Продано изделий</th>\n",
       "    </tr>\n",
       "  </thead>\n",
       "  <tbody>\n",
       "    <tr>\n",
       "      <th>Показы рекламных роликов</th>\n",
       "      <td>1.000000</td>\n",
       "      <td>0.023927</td>\n",
       "    </tr>\n",
       "    <tr>\n",
       "      <th>Продано изделий</th>\n",
       "      <td>0.023927</td>\n",
       "      <td>1.000000</td>\n",
       "    </tr>\n",
       "  </tbody>\n",
       "</table>\n",
       "</div>"
      ],
      "text/plain": [
       "                          Показы рекламных роликов  Продано изделий\n",
       "Показы рекламных роликов                  1.000000         0.023927\n",
       "Продано изделий                           0.023927         1.000000"
      ]
     },
     "execution_count": 52,
     "metadata": {},
     "output_type": "execute_result"
    }
   ],
   "source": [
    "display(correlation(df_1['Показы рекламных роликов'], df_1['Продано изделий']))\n",
    "df_1[['Показы рекламных роликов', 'Продано изделий']].corr()"
   ]
  },
  {
   "cell_type": "markdown",
   "metadata": {},
   "source": [
    "а теперь исследуем свойства корреляции "
   ]
  },
  {
   "cell_type": "code",
   "execution_count": 54,
   "metadata": {},
   "outputs": [
    {
     "data": {
      "text/plain": [
       "0.029431314456805024"
      ]
     },
     "metadata": {},
     "output_type": "display_data"
    },
    {
     "name": "stdout",
     "output_type": "stream",
     "text": [
      "Наблюдаем низкую корреляцию, что естетственно, поскольку признаки сгенерированы случайным образом. Низкий коэффициент корреляции (менее + - 0,10) означает, что связь между переменными слаба или вовсе отсутствует. Высокий коэффициент корреляции (ближе к +1 или 1) показывает, что зависимая переменная обычно изменяется при изменении независимой.\n"
     ]
    },
    {
     "data": {
      "text/plain": [
       "0.6509051261737478"
      ]
     },
     "metadata": {},
     "output_type": "display_data"
    },
    {
     "name": "stdout",
     "output_type": "stream",
     "text": [
      "Наблюдаем высокую корреляцию, что тоже естетственно, поскольку признаки имеют линейную            зависимость хотя и зашумлены\n"
     ]
    },
    {
     "data": {
      "text/plain": [
       "0.029431314456805014"
      ]
     },
     "metadata": {},
     "output_type": "display_data"
    },
    {
     "name": "stdout",
     "output_type": "stream",
     "text": [
      "Корреляция устойчива к изменению масштаба - при увеличении значений в 5 раз                    коэффициент не изменился\n"
     ]
    },
    {
     "data": {
      "text/plain": [
       "-1.0"
      ]
     },
     "metadata": {},
     "output_type": "display_data"
    },
    {
     "name": "stdout",
     "output_type": "stream",
     "text": [
      "Направление изменения зависимой переменной определяется знаком коэффициента корреляции. Если значение коэффициента положительно, то зависимая переменная изменится в том же направлении, что и независимая; если же его значение отрицательно, то зависимая переменная будет двигаться в направлении, противоположном изменению независимой.\n"
     ]
    }
   ],
   "source": [
    "np.random.seed(0)\n",
    "df_10 = pd.DataFrame(np.random.randint(low= 0, high= 20, size= (1000, 3)), \n",
    "                  columns= ['Показы рекламных роликов', 'Продано изделий', 'Шум'])\n",
    "df_20 = df_10.copy()\n",
    "df_30 = df_10.copy()\n",
    "df_40 = df_10.copy()\n",
    "\n",
    "df_20['Продано изделий'] = df_20['Показы рекламных роликов']*df_20['Шум'] \n",
    "df_30 = df_30 * 5\n",
    "df_40['Продано изделий'] = df_40['Показы рекламных роликов']*(-5)\n",
    "\n",
    "display(df_10['Показы рекламных роликов'].corr(df_10['Продано изделий']))\n",
    "print 'Наблюдаем низкую корреляцию, что естетственно, поскольку признаки сгенерированы случайным образом. Низкий коэффициент корреляции (менее + - 0,10) означает, что связь между переменными слаба или вовсе отсутствует. Высокий коэффициент корреляции (ближе к +1 или 1) показывает, что зависимая переменная обычно изменяется при изменении независимой.'\n",
    "display(df_20['Показы рекламных роликов'].corr(df_20['Продано изделий']))\n",
    "print 'Наблюдаем высокую корреляцию, что тоже естетственно, поскольку признаки имеют линейную\\\n",
    "            зависимость хотя и зашумлены'\n",
    "display(df_30['Показы рекламных роликов'].corr(df_30['Продано изделий']))\n",
    "print 'Корреляция устойчива к изменению масштаба - при увеличении значений в 5 раз\\\n",
    "                    коэффициент не изменился'\n",
    "display(df_40['Показы рекламных роликов'].corr(df_40['Продано изделий']))\n",
    "print 'Направление изменения зависимой переменной определяется знаком коэффициента корреляции. Если значение коэффициента положительно, то зависимая переменная изменится в том же направлении, что и независимая; если же его значение отрицательно, то зависимая переменная будет двигаться в направлении, противоположном изменению независимой.'"
   ]
  },
  {
   "cell_type": "markdown",
   "metadata": {},
   "source": [
    "Корреляционный анализ имеет два основных назначения: определение прогностических возможностей признаков и характера взаимосвязи пар признаков. \n",
    "\n",
    "Мы подробно разобрали коэффициент корреляции Пирсона, который есть мера силы линейной взаимосвязи. Коэффициент корреляции Пирсона работает только для линейных корреляций. Для распределений,отличных от нормального, коэффициент корреляции Пирсона перестаёт быть эффективной оценкой, и еще он не устойчив к выбросам.\n",
    "\n",
    "#### коэффициент корреляции Спирмена.\n",
    "\n",
    "К выбросам устойчив коэффициент корреляции Спирмена. Коэффициент корреляции Спирмена - это мера именно монотонной связи между двумя случайнами величинами. Он равен коэффициенту корреляции Пирсона между рангами наблюдений и определяется как\n",
    "\n",
    "$r_s = 1 - 6 * \\sum (rg(x_i) - rg(y_i) / (n^3 - n)$\n",
    "\n",
    "где rg - ранг \n",
    "\n",
    "Сымитируем выброс, и посмотрим, как ведет себя коэффициент корреляции Спирмена."
   ]
  },
  {
   "cell_type": "code",
   "execution_count": 107,
   "metadata": {},
   "outputs": [
    {
     "data": {
      "text/html": [
       "<div>\n",
       "<style scoped>\n",
       "    .dataframe tbody tr th:only-of-type {\n",
       "        vertical-align: middle;\n",
       "    }\n",
       "\n",
       "    .dataframe tbody tr th {\n",
       "        vertical-align: top;\n",
       "    }\n",
       "\n",
       "    .dataframe thead th {\n",
       "        text-align: right;\n",
       "    }\n",
       "</style>\n",
       "<table border=\"1\" class=\"dataframe\">\n",
       "  <thead>\n",
       "    <tr style=\"text-align: right;\">\n",
       "      <th></th>\n",
       "      <th>Показы рекламных роликов</th>\n",
       "      <th>Продано изделий</th>\n",
       "    </tr>\n",
       "  </thead>\n",
       "  <tbody>\n",
       "    <tr>\n",
       "      <th>0</th>\n",
       "      <td>12</td>\n",
       "      <td>15</td>\n",
       "    </tr>\n",
       "  </tbody>\n",
       "</table>\n",
       "</div>"
      ],
      "text/plain": [
       "   Показы рекламных роликов  Продано изделий\n",
       "0                        12               15"
      ]
     },
     "metadata": {},
     "output_type": "display_data"
    },
    {
     "data": {
      "text/html": [
       "<div>\n",
       "<style scoped>\n",
       "    .dataframe tbody tr th:only-of-type {\n",
       "        vertical-align: middle;\n",
       "    }\n",
       "\n",
       "    .dataframe tbody tr th {\n",
       "        vertical-align: top;\n",
       "    }\n",
       "\n",
       "    .dataframe thead th {\n",
       "        text-align: right;\n",
       "    }\n",
       "</style>\n",
       "<table border=\"1\" class=\"dataframe\">\n",
       "  <thead>\n",
       "    <tr style=\"text-align: right;\">\n",
       "      <th></th>\n",
       "      <th>Показы рекламных роликов</th>\n",
       "      <th>Продано изделий</th>\n",
       "    </tr>\n",
       "  </thead>\n",
       "  <tbody>\n",
       "    <tr>\n",
       "      <th>0</th>\n",
       "      <td>12</td>\n",
       "      <td>900</td>\n",
       "    </tr>\n",
       "  </tbody>\n",
       "</table>\n",
       "</div>"
      ],
      "text/plain": [
       "   Показы рекламных роликов  Продано изделий\n",
       "0                        12              900"
      ]
     },
     "metadata": {},
     "output_type": "display_data"
    },
    {
     "name": "stdout",
     "output_type": "stream",
     "text": [
      "здесь мы сымитировали выброс\n"
     ]
    },
    {
     "data": {
      "text/html": [
       "<div>\n",
       "<style scoped>\n",
       "    .dataframe tbody tr th:only-of-type {\n",
       "        vertical-align: middle;\n",
       "    }\n",
       "\n",
       "    .dataframe tbody tr th {\n",
       "        vertical-align: top;\n",
       "    }\n",
       "\n",
       "    .dataframe thead th {\n",
       "        text-align: right;\n",
       "    }\n",
       "</style>\n",
       "<table border=\"1\" class=\"dataframe\">\n",
       "  <thead>\n",
       "    <tr style=\"text-align: right;\">\n",
       "      <th></th>\n",
       "      <th>Показы рекламных роликов</th>\n",
       "      <th>Продано изделий</th>\n",
       "    </tr>\n",
       "  </thead>\n",
       "  <tbody>\n",
       "    <tr>\n",
       "      <th>Показы рекламных роликов</th>\n",
       "      <td>1.000000</td>\n",
       "      <td>0.023927</td>\n",
       "    </tr>\n",
       "    <tr>\n",
       "      <th>Продано изделий</th>\n",
       "      <td>0.023927</td>\n",
       "      <td>1.000000</td>\n",
       "    </tr>\n",
       "  </tbody>\n",
       "</table>\n",
       "</div>"
      ],
      "text/plain": [
       "                          Показы рекламных роликов  Продано изделий\n",
       "Показы рекламных роликов                  1.000000         0.023927\n",
       "Продано изделий                           0.023927         1.000000"
      ]
     },
     "metadata": {},
     "output_type": "display_data"
    },
    {
     "data": {
      "text/html": [
       "<div>\n",
       "<style scoped>\n",
       "    .dataframe tbody tr th:only-of-type {\n",
       "        vertical-align: middle;\n",
       "    }\n",
       "\n",
       "    .dataframe tbody tr th {\n",
       "        vertical-align: top;\n",
       "    }\n",
       "\n",
       "    .dataframe thead th {\n",
       "        text-align: right;\n",
       "    }\n",
       "</style>\n",
       "<table border=\"1\" class=\"dataframe\">\n",
       "  <thead>\n",
       "    <tr style=\"text-align: right;\">\n",
       "      <th></th>\n",
       "      <th>Показы рекламных роликов</th>\n",
       "      <th>Продано изделий</th>\n",
       "    </tr>\n",
       "  </thead>\n",
       "  <tbody>\n",
       "    <tr>\n",
       "      <th>Показы рекламных роликов</th>\n",
       "      <td>1.000000</td>\n",
       "      <td>0.017799</td>\n",
       "    </tr>\n",
       "    <tr>\n",
       "      <th>Продано изделий</th>\n",
       "      <td>0.017799</td>\n",
       "      <td>1.000000</td>\n",
       "    </tr>\n",
       "  </tbody>\n",
       "</table>\n",
       "</div>"
      ],
      "text/plain": [
       "                          Показы рекламных роликов  Продано изделий\n",
       "Показы рекламных роликов                  1.000000         0.017799\n",
       "Продано изделий                           0.017799         1.000000"
      ]
     },
     "metadata": {},
     "output_type": "display_data"
    },
    {
     "name": "stdout",
     "output_type": "stream",
     "text": [
      "коэффициент корреляции Пирсона на выборке с выбросом существенно искажен\n"
     ]
    },
    {
     "data": {
      "text/html": [
       "<div>\n",
       "<style scoped>\n",
       "    .dataframe tbody tr th:only-of-type {\n",
       "        vertical-align: middle;\n",
       "    }\n",
       "\n",
       "    .dataframe tbody tr th {\n",
       "        vertical-align: top;\n",
       "    }\n",
       "\n",
       "    .dataframe thead th {\n",
       "        text-align: right;\n",
       "    }\n",
       "</style>\n",
       "<table border=\"1\" class=\"dataframe\">\n",
       "  <thead>\n",
       "    <tr style=\"text-align: right;\">\n",
       "      <th></th>\n",
       "      <th>Показы рекламных роликов</th>\n",
       "      <th>Продано изделий</th>\n",
       "    </tr>\n",
       "  </thead>\n",
       "  <tbody>\n",
       "    <tr>\n",
       "      <th>Показы рекламных роликов</th>\n",
       "      <td>1.000000</td>\n",
       "      <td>0.024485</td>\n",
       "    </tr>\n",
       "    <tr>\n",
       "      <th>Продано изделий</th>\n",
       "      <td>0.024485</td>\n",
       "      <td>1.000000</td>\n",
       "    </tr>\n",
       "  </tbody>\n",
       "</table>\n",
       "</div>"
      ],
      "text/plain": [
       "                          Показы рекламных роликов  Продано изделий\n",
       "Показы рекламных роликов                  1.000000         0.024485\n",
       "Продано изделий                           0.024485         1.000000"
      ]
     },
     "metadata": {},
     "output_type": "display_data"
    },
    {
     "data": {
      "text/html": [
       "<div>\n",
       "<style scoped>\n",
       "    .dataframe tbody tr th:only-of-type {\n",
       "        vertical-align: middle;\n",
       "    }\n",
       "\n",
       "    .dataframe tbody tr th {\n",
       "        vertical-align: top;\n",
       "    }\n",
       "\n",
       "    .dataframe thead th {\n",
       "        text-align: right;\n",
       "    }\n",
       "</style>\n",
       "<table border=\"1\" class=\"dataframe\">\n",
       "  <thead>\n",
       "    <tr style=\"text-align: right;\">\n",
       "      <th></th>\n",
       "      <th>Показы рекламных роликов</th>\n",
       "      <th>Продано изделий</th>\n",
       "    </tr>\n",
       "  </thead>\n",
       "  <tbody>\n",
       "    <tr>\n",
       "      <th>Показы рекламных роликов</th>\n",
       "      <td>1.000000</td>\n",
       "      <td>0.024856</td>\n",
       "    </tr>\n",
       "    <tr>\n",
       "      <th>Продано изделий</th>\n",
       "      <td>0.024856</td>\n",
       "      <td>1.000000</td>\n",
       "    </tr>\n",
       "  </tbody>\n",
       "</table>\n",
       "</div>"
      ],
      "text/plain": [
       "                          Показы рекламных роликов  Продано изделий\n",
       "Показы рекламных роликов                  1.000000         0.024856\n",
       "Продано изделий                           0.024856         1.000000"
      ]
     },
     "metadata": {},
     "output_type": "display_data"
    },
    {
     "name": "stdout",
     "output_type": "stream",
     "text": [
      "а здесь такого искажения нет, хотя точность несколько упала\n"
     ]
    }
   ],
   "source": [
    "np.random.seed(0)\n",
    "df_1_s = pd.DataFrame(np.random.randint(low= 0, high= 20, size= (1000, 2)), \n",
    "                  columns= ['Показы рекламных роликов', 'Продано изделий'])\n",
    "df_2_s = df_1_s.copy()\n",
    "df_2_s.loc[0][1] = 900        \n",
    "display(df_1_s.head(1))\n",
    "display(df_2_s.head(1))\n",
    "print 'здесь мы сымитировали выброс'\n",
    "display(df_1_s.corr( method='pearson'))\n",
    "display(df_2_s.corr( method='pearson'))\n",
    "print 'коэффициент корреляции Пирсона на выборке с выбросом существенно искажен'\n",
    "display(df_1_s.corr( method='spearman'))\n",
    "display(df_2_s.corr( method='spearman'))\n",
    "print 'а здесь такого искажения нет, хотя точность несколько упала'"
   ]
  },
  {
   "cell_type": "markdown",
   "metadata": {},
   "source": [
    "Видим, что коэффициент корреляции Спирмена чуть менее точен, но действительно устойчив к выбросам.\n",
    "\n",
    "Для проверки значимости коэффициентов корреляции Спирмена и Пирсона используется критерий Стьюдента. \n",
    "\n",
    "До сих пор мы имели дело с вещественными признаками. Теперь же рассмотрим категориальные. Мерой качества для бинарной классификации является корреляция Мэтьюса.\n",
    "\n",
    "#### корреляция Мэтьюса\n",
    "\n",
    "Корреляция Мэтьюса - это мера силы взаимосвязи бинарных переменных. Она может быть использована, если размеры классов сильно различаются. Принимает значение на интервале [-1, 1]. Значение 1 соответствует идеальному предсказанию, 0 — ситуации случайного предсказания, -1 — полностью противоположному предсказанию. В литературе так же известна как $\\phi$–коэффициент. \n",
    "\n",
    "реализуем вычисление коэффициента корреляции Мэтьюса сразу ввиде кода а потом проверим ее стандартной функцией из библиотеки sklearn"
   ]
  },
  {
   "cell_type": "code",
   "execution_count": 100,
   "metadata": {},
   "outputs": [],
   "source": [
    "np.random.seed(0)\n",
    "df_1_m = pd.DataFrame(np.random.randint(low= 0, high= 2, size= (1000, 2)), \n",
    "                  columns= ['Предсказал/не предсказал покупку', 'Купил/не купил товар'])\n",
    "\n",
    "def CM(feature_x, feature_y):\n",
    "    true_positive = 0\n",
    "    true_negative = 0\n",
    "    false_positive = 0\n",
    "    false_negative = 0\n",
    "    for i in range(len(feature_x)):\n",
    "        if feature_x[i] == 1 and feature_x[i] == feature_y[i]:\n",
    "            true_positive += 1\n",
    "        if feature_x[i] == 0 and feature_x[i] == feature_y[i]:\n",
    "            true_negative += 1\n",
    "        if feature_x[i] == 1 and feature_x[i] != feature_y[i]:\n",
    "            false_positive += 1\n",
    "        if feature_x[i] == 0 and feature_x[i] != feature_y[i]:\n",
    "            false_negative += 1\n",
    "    corr_m = (true_positive*true_negative-false_positive*false_negative)/sqrt((true_positive+false_negative)*\n",
    "                                              (true_positive+false_positive)*\n",
    "                                              (true_negative+false_positive)*\n",
    "                                              (true_negative+false_negative))\n",
    "    return corr_m"
   ]
  },
  {
   "cell_type": "code",
   "execution_count": 102,
   "metadata": {},
   "outputs": [
    {
     "data": {
      "text/plain": [
       "0.025821688647364865"
      ]
     },
     "execution_count": 102,
     "metadata": {},
     "output_type": "execute_result"
    }
   ],
   "source": [
    "CM(df_1_m['Предсказал/не предсказал покупку'], df_1_m['Купил/не купил товар'])"
   ]
  },
  {
   "cell_type": "code",
   "execution_count": 103,
   "metadata": {},
   "outputs": [
    {
     "data": {
      "text/plain": [
       "0.025821688647364865"
      ]
     },
     "metadata": {},
     "output_type": "display_data"
    }
   ],
   "source": [
    "from sklearn.metrics import matthews_corrcoef\n",
    "\n",
    "np.random.seed(0)\n",
    "df_1_m = pd.DataFrame(np.random.randint(low= 0, high= 2, size= (1000, 2)), \n",
    "                  columns= ['Предсказал/не предсказал покупку', 'Купил/не купил товар'])\n",
    "\n",
    "display(matthews_corrcoef(df_1_m['Предсказал/не предсказал покупку'], df_1_m['Купил/не купил товар']))"
   ]
  },
  {
   "cell_type": "markdown",
   "metadata": {},
   "source": [
    "как мы видим, результаты идентичны. функция реализована верно."
   ]
  },
  {
   "cell_type": "markdown",
   "metadata": {},
   "source": [
    "если же мы имеем дело не просто с бинарными признаками, а в целом с категориальными, то тогда для исследования меры силы взаимосвязи между двумя категориальными переменными используют коэффициент Крамера\n",
    "\n",
    "#### коэффициент Крамера\n",
    "\n",
    "Коэффициент Крамера - это мера связи двух номинальных переменных на основе критерия хи-квадрат. \n",
    "Критерий $\\chi^2$ - статистический критерий для проверки гипотезы $H_0$, что наблюдаемая случайная величина подчиняется некому теоретическому закону распределения. \n",
    "\n",
    "Коэффициент Крамера применяется к таблицам сопряженности произвольной размерности. Принимает значения из интервала [0; 1]. При отсутствии статистической связи между переменными значение коэффициента равно 0; при полной связи (когда значение одной переменной полностью определяется значением второй переменной) достигает 1. \n",
    "\n",
    "Его формула\n",
    "\n",
    "$ \\phi_c(X_1^n, X_2^n ) = \\sqrt(\\chi^2(X_1^n, X_2^n )/n(min(K_1,K_2)-1)$\n",
    "\n",
    "возьмем готовый код, и проверим вычисления по ранее сгенерированной выборке"
   ]
  },
  {
   "cell_type": "code",
   "execution_count": 105,
   "metadata": {},
   "outputs": [],
   "source": [
    "import scipy.stats as ss\n",
    "import pandas as pd\n",
    "import numpy as np\n",
    "def cramers_corrected_stat(x,y):\n",
    "\n",
    "    \"\"\" calculate Cramers V statistic for categorial-categorial association.\n",
    "        uses correction from Bergsma and Wicher, \n",
    "        Journal of the Korean Statistical Society 42 (2013): 323-328\n",
    "    \"\"\"\n",
    "    result=-1\n",
    "    if len(x.value_counts())==1 :\n",
    "        print(\"First variable is constant\")\n",
    "    elif len(y.value_counts())==1:\n",
    "        print(\"Second variable is constant\")\n",
    "    else:   \n",
    "        conf_matrix=pd.crosstab(x, y)\n",
    "\n",
    "        if conf_matrix.shape[0]==2:\n",
    "            correct=False\n",
    "        else:\n",
    "            correct=True\n",
    "\n",
    "        chi2 = ss.chi2_contingency(conf_matrix, correction=correct)[0]\n",
    "\n",
    "        n = sum(conf_matrix.sum())\n",
    "        phi2 = chi2/n\n",
    "        r,k = conf_matrix.shape\n",
    "        phi2corr = max(0, phi2 - ((k-1)*(r-1))/(n-1))    \n",
    "        rcorr = r - ((r-1)**2)/(n-1)\n",
    "        kcorr = k - ((k-1)**2)/(n-1)\n",
    "        result=np.sqrt(phi2corr / min( (kcorr-1), (rcorr-1)))\n",
    "    return round(result,6)"
   ]
  },
  {
   "cell_type": "code",
   "execution_count": 106,
   "metadata": {},
   "outputs": [
    {
     "data": {
      "text/plain": [
       "0.025822"
      ]
     },
     "execution_count": 106,
     "metadata": {},
     "output_type": "execute_result"
    }
   ],
   "source": [
    "np.random.seed(0)\n",
    "df_1_c = pd.DataFrame(np.random.randint(low= 0, high= 2, size= (1000, 2)), \n",
    "                  columns= ['Предсказал/не предсказал покупку', 'Купил/не купил товар'])\n",
    "cramers_corrected_stat(df_1_c['Предсказал/не предсказал покупку'], df_1_c['Купил/не купил товар'],)"
   ]
  },
  {
   "cell_type": "markdown",
   "metadata": {},
   "source": [
    "как и должно быть в этом случае, результат аналогичен предыдущему"
   ]
  },
  {
   "cell_type": "markdown",
   "metadata": {},
   "source": [
    "#### Ограничения корреляционного анализа\n",
    "\n",
    "1. Применение возможно при наличии достаточного количества наблюдений. Считается, что число наблюдений должно не менее, чем в 5-6 раз превышать число признаков (также встречается рекомендация использовать пропорцию не менее, чем в 10 раз, тогда в действие вступает закон больших чисел, который обеспечивает взаимопогашение случайных колебаний).\n",
    "2. Необходимо, чтобы значения признаков подчинялась многомерному нормальному распределению. В случае, если объём выборки недостаточен для проведения формального тестирования на нормальность распределения, то закон распределения определяется визуально на основе корреляционного поля. Если в расположении точек на этом поле наблюдается линейная тенденция, то можно предположить, что совокупность исходных данных подчиняется нормальному закону распределения.\n",
    "3. Выборка должна быть качественно однородной.\n",
    "4. Сам по себе факт корреляционной зависимости не даёт основания утверждать, что одна из переменных предшествует или является причиной изменений, или то, что переменные вообще причинно связаны между собой, а не наблюдается действие третьего фактора. "
   ]
  },
  {
   "cell_type": "code",
   "execution_count": null,
   "metadata": {},
   "outputs": [],
   "source": []
  }
 ],
 "metadata": {
  "kernelspec": {
   "display_name": "Python 2",
   "language": "python",
   "name": "python2"
  },
  "language_info": {
   "codemirror_mode": {
    "name": "ipython",
    "version": 2
   },
   "file_extension": ".py",
   "mimetype": "text/x-python",
   "name": "python",
   "nbconvert_exporter": "python",
   "pygments_lexer": "ipython2",
   "version": "2.7.16"
  }
 },
 "nbformat": 4,
 "nbformat_minor": 2
}
