{
 "cells": [
  {
   "cell_type": "markdown",
   "metadata": {},
   "source": [
    "# Классификация текстов: спам-фильтр для SMS"
   ]
  },
  {
   "cell_type": "markdown",
   "metadata": {},
   "source": [
    "В этом задании вам предстоит взять открытый датасет с SMS-сообщениями, размеченными на спам (\"spam\") и не спам (\"ham\"), построить на нем классификатор текстов на эти два класса, оценить его качество с помощью кросс-валидации, протестировать его работу на отдельных примерах, и посмотреть, что будет происходить с качеством, если менять параметры вашей модели."
   ]
  },
  {
   "cell_type": "markdown",
   "metadata": {},
   "source": [
    "Описание датасета можно посмотреть\n",
    "http://www.dt.fee.unicamp.br/~tiago/smsspamcollection/"
   ]
  },
  {
   "cell_type": "markdown",
   "metadata": {},
   "source": [
    "книга по nltk\n",
    "http://www.nltk.org/book/ch02.html"
   ]
  },
  {
   "cell_type": "markdown",
   "metadata": {},
   "source": [
    "Считайте датасет в Python (можете сразу грузить все в память, выборка небольшая), выясните, что используется в качестве разделителей и как проставляются метки классов."
   ]
  },
  {
   "cell_type": "code",
   "execution_count": 1,
   "metadata": {},
   "outputs": [
    {
     "data": {
      "text/plain": [
       "\"ham\\tGo until jurong point, crazy.. Available only in bugis n great world la e buffet... Cine there got amore wat...\\nham\\tOk lar... Joking wif u oni...\\nspam\\tFree entry in 2 a wkly comp to win FA Cup final tkts 21st May 2005. Text FA to 87121 to receive entry question(std txt rate)T&C's apply 084528100\""
      ]
     },
     "execution_count": 1,
     "metadata": {},
     "output_type": "execute_result"
    }
   ],
   "source": [
    "f = open('SMSSpamCollection.txt')\n",
    "text = f.read()\n",
    "text[:300]"
   ]
  },
  {
   "cell_type": "markdown",
   "metadata": {},
   "source": [
    "используется в качестве разделителей \\n \\t \n",
    "\n",
    "проставляются метки классов 'ham', 'spam'"
   ]
  },
  {
   "cell_type": "markdown",
   "metadata": {},
   "source": [
    "Подготовьте для дальнейшей работы два списка: список текстов в порядке их следования в датасете и список соответствующих им меток классов. В качестве метки класса используйте 1 для спама и 0 для \"не спама\"."
   ]
  },
  {
   "cell_type": "code",
   "execution_count": 30,
   "metadata": {},
   "outputs": [],
   "source": [
    "import nltk"
   ]
  },
  {
   "cell_type": "code",
   "execution_count": 31,
   "metadata": {},
   "outputs": [],
   "source": [
    "# Loading your own Corpus\n",
    "#from nltk.corpus import PlaintextCorpusReader\n",
    "#corpus_root = '/usr/share/dict'\n",
    "#wordlists = PlaintextCorpusReader(corpus_root, '.*') [2]\n",
    "#wordlists = PlaintextCorpusReader('/home/thomas/Jupyter', 'SMSSpamCollection.txt')"
   ]
  },
  {
   "cell_type": "code",
   "execution_count": 32,
   "metadata": {},
   "outputs": [],
   "source": [
    " #help(nltk.corpus.reader)"
   ]
  },
  {
   "cell_type": "code",
   "execution_count": 33,
   "metadata": {},
   "outputs": [],
   "source": [
    "text = nltk.data.load('SMSSpamCollection.txt')"
   ]
  },
  {
   "cell_type": "code",
   "execution_count": 34,
   "metadata": {},
   "outputs": [
    {
     "name": "stdout",
     "output_type": "stream",
     "text": [
      "ham\tRofl. Its true to its name\n",
      "0 Rofl. Its true to its name\n",
      "ham\tGo until jurong point, crazy.. Available only in bugis n great world la e buffet... Cine there got amore wat...\n",
      "0 Go until jurong point, crazy.. Available only in bugis n great world la e buffet... Cine there got amore wat...\n"
     ]
    }
   ],
   "source": [
    "data = []\n",
    "indexes = []\n",
    "sentences_all = text.split('\\n')\n",
    "\n",
    "for i in range(len(sentences_all)):\n",
    "    try:\n",
    "        sentence = sentences_all[i]\n",
    "        words = sentence.split(\"\\t\")\n",
    "        data.append(words[1])\n",
    "        indexes.append(words[0])\n",
    "    except:\n",
    "        pass\n",
    "\n",
    "for j in range(len(indexes)):\n",
    "    if indexes[j] == 'spam':\n",
    "        indexes[j] = 1\n",
    "    else:\n",
    "        indexes[j] = 0\n",
    "    \n",
    "print sentences_all[5573]\n",
    "print indexes[5573], data[5573]\n",
    "print sentences_all[0]\n",
    "print indexes[0], data[0] "
   ]
  },
  {
   "cell_type": "markdown",
   "metadata": {},
   "source": [
    "Используя sklearn.feature_extraction.text.CountVectorizer со стандартными настройками, получите из списка текстов матрицу признаков X."
   ]
  },
  {
   "cell_type": "code",
   "execution_count": 35,
   "metadata": {},
   "outputs": [],
   "source": [
    "from sklearn.feature_extraction.text import CountVectorizer, TfidfTransformer"
   ]
  },
  {
   "cell_type": "code",
   "execution_count": 36,
   "metadata": {},
   "outputs": [],
   "source": [
    "c_vect = CountVectorizer()\n",
    "X = c_vect.fit_transform(data)"
   ]
  },
  {
   "cell_type": "markdown",
   "metadata": {},
   "source": [
    "Оцените качество классификации текстов с помощью LogisticRegression() с параметрами по умолчанию, используя sklearn.cross_validation.cross_val_score и посчитав среднее арифметическое качества на отдельных fold'ах. \n",
    "\n",
    "Установите random_state=2. \n",
    "\n",
    "Параметр cv задайте равным 10. \n",
    "\n",
    "В качестве метрики качества используйте f1-меру. Получившееся качество - один из ответов, которые потребуются при сдаче задания. Ответ округлить до 1 знака после запятой."
   ]
  },
  {
   "cell_type": "code",
   "execution_count": 37,
   "metadata": {},
   "outputs": [],
   "source": [
    "# это классификатор\n",
    "from sklearn.linear_model import LogisticRegression\n",
    "# это модуль для проверки качества\n",
    "from sklearn.model_selection import cross_val_score\n",
    "# пайплайн\n",
    "from sklearn.pipeline import Pipeline"
   ]
  },
  {
   "cell_type": "code",
   "execution_count": 38,
   "metadata": {},
   "outputs": [],
   "source": [
    "# функция возвращает пайплайн для текстовой классификации\n",
    "pipeline = Pipeline([('c_vect', CountVectorizer()), ('log_reg', LogisticRegression())])"
   ]
  },
  {
   "cell_type": "code",
   "execution_count": 39,
   "metadata": {},
   "outputs": [
    {
     "name": "stdout",
     "output_type": "stream",
     "text": [
      "0.9\n"
     ]
    }
   ],
   "source": [
    "# проверяется качество классификаторов\n",
    "print round(cross_val_score(pipeline, data, indexes, scoring='f1', cv=10).mean(), 1)"
   ]
  },
  {
   "cell_type": "code",
   "execution_count": 40,
   "metadata": {},
   "outputs": [],
   "source": [
    "with open('c5_w3_1.txt', 'w') as f:\n",
    "    f.write(str(0.9))"
   ]
  },
  {
   "cell_type": "markdown",
   "metadata": {},
   "source": [
    "А теперь обучите классификатор на всей выборке и спрогнозируйте с его помощью класс для следующих сообщений:\n",
    "\n",
    "\"FreeMsg: Txt: CALL to No: 86888 & claim your reward of 3 hours talk time to use from your phone now! Subscribe6GB\"\n",
    "\n",
    "\"FreeMsg: Txt: claim your reward of 3 hours talk time\"\n",
    "\n",
    "\"Have you visited the last lecture on physics?\"\n",
    "\n",
    "\"Have you visited the last lecture on physics? Just buy this book and you will have all materials! Only 99$\"\n",
    "\n",
    "\"Only 99$\"\n",
    "\n",
    "Прогнозы классификатора (0 - не спам, 1 - спам), записанные через пробел, будут ответом в одном из вопросов ниже."
   ]
  },
  {
   "cell_type": "code",
   "execution_count": 41,
   "metadata": {},
   "outputs": [
    {
     "name": "stdout",
     "output_type": "stream",
     "text": [
      "[1 1 0 0 0]\n"
     ]
    }
   ],
   "source": [
    "# проверка качества классификатора на выше написанных текстах\n",
    "\n",
    "texts = [\"FreeMsg: Txt: CALL to No: 86888 & claim your reward of 3 hours talk time to use from your phone now! Subscribe6GB\",\n",
    "        \"FreeMsg: Txt: claim your reward of 3 hours talk time\",\n",
    "        \"Have you visited the last lecture on physics?\",\n",
    "        \"Have you visited the last lecture on physics? Just buy this book and you will have all materials! Only 99$\",\n",
    "        \"Only 99$\"]\n",
    "\n",
    "pipeline.fit(data, indexes)\n",
    "\n",
    "print pipeline.predict(texts)"
   ]
  },
  {
   "cell_type": "code",
   "execution_count": 45,
   "metadata": {},
   "outputs": [],
   "source": [
    "with open('c5_w3_2.txt', 'w') as f:\n",
    "    f.write(' '.join(map(str, [1, 1, 0, 0, 0])))"
   ]
  },
  {
   "cell_type": "code",
   "execution_count": 43,
   "metadata": {},
   "outputs": [
    {
     "name": "stdout",
     "output_type": "stream",
     "text": [
      "[0 0 0 0 1]\n"
     ]
    }
   ],
   "source": [
    "print pipeline.predict([\"Fuck you\",\n",
    "                        \"I love my mom\",\n",
    "                       \"Bible is a collection of sacred texts\",\n",
    "                       \"It is a spam msg\",\n",
    "                       \"FreeMsg: Txt: By it for free now!\"])"
   ]
  },
  {
   "cell_type": "markdown",
   "metadata": {},
   "source": [
    "\n",
    "\n",
    "\n",
    "\n",
    "\n",
    "\n",
    "\n",
    "\n",
    "\n",
    "\n",
    "\n",
    "\n",
    "\n"
   ]
  },
  {
   "cell_type": "markdown",
   "metadata": {},
   "source": [
    "Задайте в CountVectorizer параметр ngram_range=(2,2), затем ngram_range=(3,3), затем ngram_range=(1,3). Во всех трех случаях измерьте получившееся в кросс-валидации значение f1-меры, округлите до второго знака после точки, и выпишете результаты через пробел в том же порядке. В данном эксперименте мы пробовали добавлять в признаки n-граммы для разных диапазонов n - только биграммы, только триграммы, и, наконец, все вместе - униграммы, биграммы и триграммы. Обратите внимание, что статистики по биграммам и триграммам намного меньше, поэтому классификатор только на них работает хуже. В то же время это не ухудшает результат сколько-нибудь существенно, если добавлять их вместе с униграммами, т.к. за счет регуляризации линейный классификатор не склонен сильно переобучаться на этих признаках."
   ]
  },
  {
   "cell_type": "code",
   "execution_count": 44,
   "metadata": {},
   "outputs": [
    {
     "name": "stdout",
     "output_type": "stream",
     "text": [
      "\n",
      "ngram  (2, 2)\n",
      "cross-val-score f1:  0.8224220664187133\n",
      "\n",
      "ngram  (3, 3)\n",
      "cross-val-score f1:  0.7250161555467377\n",
      "\n",
      "ngram  (1, 3)\n",
      "cross-val-score f1:  0.9251382558648837\n"
     ]
    }
   ],
   "source": [
    "ngrams = [(2,2), (3,3), (1,3)]\n",
    "\n",
    "scores = []\n",
    "for ngram in ngrams:\n",
    "    pipeline = Pipeline([('count_vect', CountVectorizer(ngram_range=ngram)), \n",
    "                         ('log_reg', LogisticRegression())])\n",
    "    score = cross_val_score(pipeline, data, indexes, scoring='f1', cv=10).mean()\n",
    "    scores.append(round(score, 2))\n",
    "    print '\\nngram ', ngram\n",
    "    print 'cross-val-score f1: ', score"
   ]
  },
  {
   "cell_type": "code",
   "execution_count": 46,
   "metadata": {},
   "outputs": [],
   "source": [
    "with open('c5_w3_3.txt', 'w') as f:\n",
    "    f.write(' '.join(map(str, scores)))"
   ]
  },
  {
   "cell_type": "markdown",
   "metadata": {},
   "source": [
    "Повторите аналогичный выше описанному эксперимент, используя вместо логистической регрессии MultinomialNB(). Обратите внимание, насколько сильнее (по сравнению с линейным классификатором) наивный Байес страдает от нехватки статистики по биграммам и триграммам.\n",
    "\n",
    "По какой-то причине обучение наивного байесовского классификатора через Pipeline происходит с ошибкой. Чтобы получить правильный ответ, отдельно посчитайте частоты слов и обучите классификатор."
   ]
  },
  {
   "cell_type": "code",
   "execution_count": 50,
   "metadata": {},
   "outputs": [],
   "source": [
    "from sklearn.naive_bayes import MultinomialNB"
   ]
  },
  {
   "cell_type": "code",
   "execution_count": 52,
   "metadata": {},
   "outputs": [
    {
     "name": "stdout",
     "output_type": "stream",
     "text": [
      "\n",
      "ngram  (2, 2)\n",
      "cross-val-score f1:  0.9337279133513456\n",
      "\n",
      "ngram  (3, 3)\n",
      "cross-val-score f1:  0.871265305963816\n",
      "\n",
      "ngram  (1, 3)\n",
      "cross-val-score f1:  0.9472991994136064\n"
     ]
    }
   ],
   "source": [
    "scores = []\n",
    "for ngram in ngrams:\n",
    "    pipeline = Pipeline([('count_vect', CountVectorizer(ngram_range=ngram)), \n",
    "                         ('mn_nb', MultinomialNB())])\n",
    "    score = cross_val_score(pipeline, data, indexes, scoring='f1', cv=10).mean()\n",
    "    scores.append(round(score, 2))\n",
    "    print '\\nngram ', ngram\n",
    "    print 'cross-val-score f1: ', score"
   ]
  },
  {
   "cell_type": "code",
   "execution_count": 54,
   "metadata": {},
   "outputs": [
    {
     "name": "stdout",
     "output_type": "stream",
     "text": [
      "\n",
      "ngram  (2, 2)\n",
      "cross-val-score f1:  0.6454554013558982\n",
      "\n",
      "ngram  (3, 3)\n",
      "cross-val-score f1:  0.37862343087618666\n",
      "\n",
      "ngram  (1, 3)\n",
      "cross-val-score f1:  0.8879054608894993\n"
     ]
    }
   ],
   "source": [
    "ngrams = [(2,2), (3,3), (1,3)]\n",
    "scores = []\n",
    "for ngram in ngrams:\n",
    "    X = CountVectorizer(ngram_range=ngram).fit_transform(data)\n",
    "    mn_nb = MultinomialNB()\n",
    "    score = cross_val_score(mn_nb, X, indexes, scoring='f1', cv=10).mean()\n",
    "    scores.append(round(score, 2))\n",
    "    print '\\nngram ', ngram\n",
    "    print 'cross-val-score f1: ', score"
   ]
  },
  {
   "cell_type": "code",
   "execution_count": 55,
   "metadata": {},
   "outputs": [],
   "source": [
    "with open('c5_w3_4.txt', 'w') as f:\n",
    "    f.write(' '.join(map(str, scores)))"
   ]
  },
  {
   "cell_type": "markdown",
   "metadata": {},
   "source": [
    "Попробуйте использовать в логистической регрессии в качестве признаков Tf*idf из TfidfVectorizer на униграммах. Повысилось или понизилось качество на кросс-валидации по сравнению с CountVectorizer на униграммах? (напишите в файле с ответом 1, если повысилось, -1, если понизилось, и 0, если изменилось не более чем на 0.01). Обратите внимание, что результат перехода к tf*idf не всегда будет таким - если вы наблюдаете какое-то явление на одном датасете, не надо сразу же его обобщать на любые данные."
   ]
  },
  {
   "cell_type": "markdown",
   "metadata": {},
   "source": [
    "### Tf*Idf вместо частот слов:"
   ]
  },
  {
   "cell_type": "code",
   "execution_count": 58,
   "metadata": {},
   "outputs": [],
   "source": [
    "from sklearn.feature_extraction.text import TfidfVectorizer"
   ]
  },
  {
   "cell_type": "code",
   "execution_count": 59,
   "metadata": {},
   "outputs": [
    {
     "name": "stdout",
     "output_type": "stream",
     "text": [
      "Cross-val-score f1:  0.8785100455343396\n",
      "CPU times: user 12.8 s, sys: 408 ms, total: 13.2 s\n",
      "Wall time: 7.22 s\n"
     ]
    }
   ],
   "source": [
    "%%time\n",
    "\n",
    "pipeline = Pipeline([('tf_idf', TfidfVectorizer()),\n",
    "                     ('log_reg', LogisticRegression())])\n",
    "score = cross_val_score(pipeline, data, indexes, scoring='f1', cv=10).mean()\n",
    "print 'Cross-val-score f1: ', score"
   ]
  },
  {
   "cell_type": "code",
   "execution_count": 60,
   "metadata": {},
   "outputs": [],
   "source": [
    "with open('c5_w3_5.txt', 'w') as f:\n",
    "    f.write(str(-1))"
   ]
  },
  {
   "cell_type": "code",
   "execution_count": null,
   "metadata": {},
   "outputs": [],
   "source": []
  }
 ],
 "metadata": {
  "kernelspec": {
   "display_name": "Python 2",
   "language": "python",
   "name": "python2"
  },
  "language_info": {
   "codemirror_mode": {
    "name": "ipython",
    "version": 2
   },
   "file_extension": ".py",
   "mimetype": "text/x-python",
   "name": "python",
   "nbconvert_exporter": "python",
   "pygments_lexer": "ipython2",
   "version": "2.7.16"
  }
 },
 "nbformat": 4,
 "nbformat_minor": 1
}
