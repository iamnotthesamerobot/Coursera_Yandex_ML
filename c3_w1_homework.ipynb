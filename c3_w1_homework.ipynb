{
 "cells": [
  {
   "cell_type": "markdown",
   "metadata": {},
   "source": [
    "### 1. Вес и важность признаков в линейной регрессии и  случайном лесе"
   ]
  },
  {
   "cell_type": "code",
   "execution_count": 1,
   "metadata": {},
   "outputs": [],
   "source": [
    "import pandas as pd\n",
    "import numpy as np\n",
    "from matplotlib import pyplot as plt\n",
    "%matplotlib inline"
   ]
  },
  {
   "cell_type": "code",
   "execution_count": 2,
   "metadata": {},
   "outputs": [
    {
     "data": {
      "text/plain": [
       "(303, 14)"
      ]
     },
     "metadata": {},
     "output_type": "display_data"
    },
    {
     "data": {
      "text/html": [
       "<div>\n",
       "<style scoped>\n",
       "    .dataframe tbody tr th:only-of-type {\n",
       "        vertical-align: middle;\n",
       "    }\n",
       "\n",
       "    .dataframe tbody tr th {\n",
       "        vertical-align: top;\n",
       "    }\n",
       "\n",
       "    .dataframe thead th {\n",
       "        text-align: right;\n",
       "    }\n",
       "</style>\n",
       "<table border=\"1\" class=\"dataframe\">\n",
       "  <thead>\n",
       "    <tr style=\"text-align: right;\">\n",
       "      <th></th>\n",
       "      <th>age</th>\n",
       "      <th>sex</th>\n",
       "      <th>chest_pain_type</th>\n",
       "      <th>resting_blood_pressure</th>\n",
       "      <th>cholesterol</th>\n",
       "      <th>fasting_blood_sugar</th>\n",
       "      <th>rest_ecg</th>\n",
       "      <th>max_heart_rate_achieved</th>\n",
       "      <th>exercise_induced_angina</th>\n",
       "      <th>st_depression</th>\n",
       "      <th>st_slope</th>\n",
       "      <th>num_major_vessels</th>\n",
       "      <th>thalassemia</th>\n",
       "      <th>target</th>\n",
       "    </tr>\n",
       "  </thead>\n",
       "  <tbody>\n",
       "    <tr>\n",
       "      <th>0</th>\n",
       "      <td>63</td>\n",
       "      <td>male</td>\n",
       "      <td>non-anginal pain</td>\n",
       "      <td>145</td>\n",
       "      <td>233</td>\n",
       "      <td>greater than 120mg/ml</td>\n",
       "      <td>normal</td>\n",
       "      <td>150</td>\n",
       "      <td>no</td>\n",
       "      <td>2.3</td>\n",
       "      <td>upsloping</td>\n",
       "      <td>0</td>\n",
       "      <td>normal</td>\n",
       "      <td>1</td>\n",
       "    </tr>\n",
       "  </tbody>\n",
       "</table>\n",
       "</div>"
      ],
      "text/plain": [
       "   age   sex   chest_pain_type  resting_blood_pressure  cholesterol  \\\n",
       "0   63  male  non-anginal pain                     145          233   \n",
       "\n",
       "     fasting_blood_sugar rest_ecg  max_heart_rate_achieved  \\\n",
       "0  greater than 120mg/ml   normal                      150   \n",
       "\n",
       "  exercise_induced_angina  st_depression   st_slope  num_major_vessels  \\\n",
       "0                      no            2.3  upsloping                  0   \n",
       "\n",
       "  thalassemia  target  \n",
       "0      normal       1  "
      ]
     },
     "execution_count": 2,
     "metadata": {},
     "output_type": "execute_result"
    }
   ],
   "source": [
    "df = pd.read_csv('heart_pandas (2).csv')\n",
    "display(df.shape)\n",
    "df.head(1)\n",
    "# фиксируем 14 признаков всего"
   ]
  },
  {
   "cell_type": "markdown",
   "metadata": {},
   "source": [
    "кодир категор перем\n",
    "обуч лог рег\n",
    "предск вероятн для каждого"
   ]
  },
  {
   "cell_type": "code",
   "execution_count": 3,
   "metadata": {},
   "outputs": [
    {
     "data": {
      "text/plain": [
       "(303, 7)"
      ]
     },
     "metadata": {},
     "output_type": "display_data"
    },
    {
     "data": {
      "text/plain": [
       "Index([u'sex', u'chest_pain_type', u'fasting_blood_sugar', u'rest_ecg',\n",
       "       u'exercise_induced_angina', u'st_slope', u'thalassemia'],\n",
       "      dtype='object')"
      ]
     },
     "metadata": {},
     "output_type": "display_data"
    },
    {
     "data": {
      "text/html": [
       "<div>\n",
       "<style scoped>\n",
       "    .dataframe tbody tr th:only-of-type {\n",
       "        vertical-align: middle;\n",
       "    }\n",
       "\n",
       "    .dataframe tbody tr th {\n",
       "        vertical-align: top;\n",
       "    }\n",
       "\n",
       "    .dataframe thead th {\n",
       "        text-align: right;\n",
       "    }\n",
       "</style>\n",
       "<table border=\"1\" class=\"dataframe\">\n",
       "  <thead>\n",
       "    <tr style=\"text-align: right;\">\n",
       "      <th></th>\n",
       "      <th>sex</th>\n",
       "      <th>chest_pain_type</th>\n",
       "      <th>fasting_blood_sugar</th>\n",
       "      <th>rest_ecg</th>\n",
       "      <th>exercise_induced_angina</th>\n",
       "      <th>st_slope</th>\n",
       "      <th>thalassemia</th>\n",
       "    </tr>\n",
       "  </thead>\n",
       "  <tbody>\n",
       "    <tr>\n",
       "      <th>0</th>\n",
       "      <td>male</td>\n",
       "      <td>non-anginal pain</td>\n",
       "      <td>greater than 120mg/ml</td>\n",
       "      <td>normal</td>\n",
       "      <td>no</td>\n",
       "      <td>upsloping</td>\n",
       "      <td>normal</td>\n",
       "    </tr>\n",
       "  </tbody>\n",
       "</table>\n",
       "</div>"
      ],
      "text/plain": [
       "    sex   chest_pain_type    fasting_blood_sugar rest_ecg  \\\n",
       "0  male  non-anginal pain  greater than 120mg/ml   normal   \n",
       "\n",
       "  exercise_induced_angina   st_slope thalassemia  \n",
       "0                      no  upsloping      normal  "
      ]
     },
     "execution_count": 3,
     "metadata": {},
     "output_type": "execute_result"
    }
   ],
   "source": [
    "# выделили категориальные признаки\n",
    "X_cat = df.select_dtypes(include='object')\n",
    "display(X_cat.shape)\n",
    "display(X_cat.columns)\n",
    "X_cat.head(1)\n",
    "# категориальных признаков 7"
   ]
  },
  {
   "cell_type": "code",
   "execution_count": 4,
   "metadata": {},
   "outputs": [
    {
     "data": {
      "text/plain": [
       "(303, 24)"
      ]
     },
     "metadata": {},
     "output_type": "display_data"
    },
    {
     "data": {
      "text/plain": [
       "Index([u'age', u'resting_blood_pressure', u'cholesterol',\n",
       "       u'max_heart_rate_achieved', u'st_depression', u'num_major_vessels',\n",
       "       u'target', u'sex_female', u'sex_male',\n",
       "       u'chest_pain_type_atypical angina', u'chest_pain_type_non-anginal pain',\n",
       "       u'chest_pain_type_typical angina',\n",
       "       u'fasting_blood_sugar_greater than 120mg/ml',\n",
       "       u'fasting_blood_sugar_lower than 120mg/ml',\n",
       "       u'rest_ecg_ST-T wave abnormality',\n",
       "       u'rest_ecg_left ventricular hypertrophy', u'rest_ecg_normal',\n",
       "       u'exercise_induced_angina_no', u'exercise_induced_angina_yes',\n",
       "       u'st_slope_flat', u'st_slope_upsloping', u'thalassemia_fixed defect',\n",
       "       u'thalassemia_normal', u'thalassemia_reversable defect'],\n",
       "      dtype='object')"
      ]
     },
     "metadata": {},
     "output_type": "display_data"
    },
    {
     "data": {
      "text/html": [
       "<div>\n",
       "<style scoped>\n",
       "    .dataframe tbody tr th:only-of-type {\n",
       "        vertical-align: middle;\n",
       "    }\n",
       "\n",
       "    .dataframe tbody tr th {\n",
       "        vertical-align: top;\n",
       "    }\n",
       "\n",
       "    .dataframe thead th {\n",
       "        text-align: right;\n",
       "    }\n",
       "</style>\n",
       "<table border=\"1\" class=\"dataframe\">\n",
       "  <thead>\n",
       "    <tr style=\"text-align: right;\">\n",
       "      <th></th>\n",
       "      <th>age</th>\n",
       "      <th>resting_blood_pressure</th>\n",
       "      <th>cholesterol</th>\n",
       "      <th>max_heart_rate_achieved</th>\n",
       "      <th>st_depression</th>\n",
       "      <th>num_major_vessels</th>\n",
       "      <th>target</th>\n",
       "      <th>sex_female</th>\n",
       "      <th>sex_male</th>\n",
       "      <th>chest_pain_type_atypical angina</th>\n",
       "      <th>...</th>\n",
       "      <th>rest_ecg_ST-T wave abnormality</th>\n",
       "      <th>rest_ecg_left ventricular hypertrophy</th>\n",
       "      <th>rest_ecg_normal</th>\n",
       "      <th>exercise_induced_angina_no</th>\n",
       "      <th>exercise_induced_angina_yes</th>\n",
       "      <th>st_slope_flat</th>\n",
       "      <th>st_slope_upsloping</th>\n",
       "      <th>thalassemia_fixed defect</th>\n",
       "      <th>thalassemia_normal</th>\n",
       "      <th>thalassemia_reversable defect</th>\n",
       "    </tr>\n",
       "  </thead>\n",
       "  <tbody>\n",
       "    <tr>\n",
       "      <th>0</th>\n",
       "      <td>63</td>\n",
       "      <td>145</td>\n",
       "      <td>233</td>\n",
       "      <td>150</td>\n",
       "      <td>2.3</td>\n",
       "      <td>0</td>\n",
       "      <td>1</td>\n",
       "      <td>0</td>\n",
       "      <td>1</td>\n",
       "      <td>0</td>\n",
       "      <td>...</td>\n",
       "      <td>0</td>\n",
       "      <td>0</td>\n",
       "      <td>1</td>\n",
       "      <td>1</td>\n",
       "      <td>0</td>\n",
       "      <td>0</td>\n",
       "      <td>1</td>\n",
       "      <td>0</td>\n",
       "      <td>1</td>\n",
       "      <td>0</td>\n",
       "    </tr>\n",
       "  </tbody>\n",
       "</table>\n",
       "<p>1 rows × 24 columns</p>\n",
       "</div>"
      ],
      "text/plain": [
       "   age  resting_blood_pressure  cholesterol  max_heart_rate_achieved  \\\n",
       "0   63                     145          233                      150   \n",
       "\n",
       "   st_depression  num_major_vessels  target  sex_female  sex_male  \\\n",
       "0            2.3                  0       1           0         1   \n",
       "\n",
       "   chest_pain_type_atypical angina  ...  rest_ecg_ST-T wave abnormality  \\\n",
       "0                                0  ...                               0   \n",
       "\n",
       "   rest_ecg_left ventricular hypertrophy  rest_ecg_normal  \\\n",
       "0                                      0                1   \n",
       "\n",
       "   exercise_induced_angina_no  exercise_induced_angina_yes  st_slope_flat  \\\n",
       "0                           1                            0              0   \n",
       "\n",
       "   st_slope_upsloping  thalassemia_fixed defect  thalassemia_normal  \\\n",
       "0                   1                         0                   1   \n",
       "\n",
       "   thalassemia_reversable defect  \n",
       "0                              0  \n",
       "\n",
       "[1 rows x 24 columns]"
      ]
     },
     "execution_count": 4,
     "metadata": {},
     "output_type": "execute_result"
    }
   ],
   "source": [
    "# кодируем категориальные признаки путем их векторизации\n",
    "X_1 = pd.get_dummies(df, columns=X_cat.columns)\n",
    "display(X_1.shape)\n",
    "display(X_1.columns)\n",
    "X_1.head(1)"
   ]
  },
  {
   "cell_type": "code",
   "execution_count": 5,
   "metadata": {},
   "outputs": [
    {
     "data": {
      "text/plain": [
       "(303,)"
      ]
     },
     "execution_count": 5,
     "metadata": {},
     "output_type": "execute_result"
    }
   ],
   "source": [
    "# выделяем целевой вектор\n",
    "y = df['target']\n",
    "y.shape"
   ]
  },
  {
   "cell_type": "code",
   "execution_count": 6,
   "metadata": {},
   "outputs": [],
   "source": [
    "# удаляем целевой вектор из выборки\n",
    "X_1 = X_1.drop(['target'], axis=1)"
   ]
  },
  {
   "cell_type": "code",
   "execution_count": 7,
   "metadata": {},
   "outputs": [
    {
     "data": {
      "text/plain": [
       "(303, 23)"
      ]
     },
     "execution_count": 7,
     "metadata": {},
     "output_type": "execute_result"
    }
   ],
   "source": [
    "X_1.shape"
   ]
  },
  {
   "cell_type": "markdown",
   "metadata": {},
   "source": [
    "####  обучить LogisticRegression на X_1, получить наибольшее по модулю значение весового коэффициента"
   ]
  },
  {
   "cell_type": "code",
   "execution_count": 9,
   "metadata": {},
   "outputs": [],
   "source": [
    "from sklearn.linear_model import LogisticRegression\n",
    "from sklearn.metrics import accuracy_score"
   ]
  },
  {
   "cell_type": "code",
   "execution_count": 10,
   "metadata": {},
   "outputs": [
    {
     "name": "stderr",
     "output_type": "stream",
     "text": [
      "/home/thomas/anaconda2/envs/env_py2/lib/python2.7/site-packages/sklearn/linear_model/logistic.py:433: FutureWarning: Default solver will be changed to 'lbfgs' in 0.22. Specify a solver to silence this warning.\n",
      "  FutureWarning)\n"
     ]
    },
    {
     "data": {
      "text/plain": [
       "LogisticRegression(C=1.0, class_weight=None, dual=False, fit_intercept=True,\n",
       "          intercept_scaling=1, max_iter=100, multi_class='warn',\n",
       "          n_jobs=None, penalty='l2', random_state=None, solver='warn',\n",
       "          tol=0.0001, verbose=0, warm_start=False)"
      ]
     },
     "execution_count": 10,
     "metadata": {},
     "output_type": "execute_result"
    }
   ],
   "source": [
    "# обучаем логистическую регрессию\n",
    "LR = LogisticRegression()\n",
    "LR.fit(X_1, y)"
   ]
  },
  {
   "cell_type": "code",
   "execution_count": 11,
   "metadata": {},
   "outputs": [
    {
     "data": {
      "text/plain": [
       "array([[0.3605023 , 0.6394977 ],\n",
       "       [0.15589797, 0.84410203],\n",
       "       [0.07627387, 0.92372613]])"
      ]
     },
     "execution_count": 11,
     "metadata": {},
     "output_type": "execute_result"
    }
   ],
   "source": [
    "# предсказываем вероятность (0 или 1) для каждого целевого признака\n",
    "LR.predict_proba(X_1[:3])"
   ]
  },
  {
   "cell_type": "code",
   "execution_count": 12,
   "metadata": {},
   "outputs": [
    {
     "data": {
      "text/plain": [
       "array([[ 0.00602155, -0.0136609 , -0.00374589,  0.02283358, -0.44947374,\n",
       "        -0.8125176 ,  0.69350891, -0.52924244,  0.55536124,  0.50381944,\n",
       "        -0.89491422,  0.16570316, -0.00143669,  0.38531444, -0.07660078,\n",
       "        -0.14444719,  0.53839281, -0.37412634,  0.46438865, -0.30012219,\n",
       "         0.66940876,  0.25783229, -0.76297458]])"
      ]
     },
     "execution_count": 12,
     "metadata": {},
     "output_type": "execute_result"
    }
   ],
   "source": [
    "# запрашиваем весовые коэффициенты признаков в решающей функции\n",
    "LR.coef_"
   ]
  },
  {
   "cell_type": "code",
   "execution_count": 29,
   "metadata": {},
   "outputs": [
    {
     "name": "stdout",
     "output_type": "stream",
     "text": [
      "Variable for LR: chest_pain_type_typical angina Importance: 0.89\n"
     ]
    }
   ],
   "source": [
    "# форматируем массив в абсолютные значения\n",
    "for coef in LR.coef_:\n",
    "    LR_coef_abs = abs(LR.coef_)\n",
    "# получаем список \n",
    "importances_LR = LR_coef_abs.tolist()[0]\n",
    "# формируем пары признак:значение\n",
    "feature_importances_LR = [(feature, round(importance_LR, 2)) for feature, importance_LR in zip(X_1.columns, importances_LR)]\n",
    "#display(feature_importances_LR )\n",
    "# сортируем признаки по степени важности по мере убывания\n",
    "feature_importances_LR = sorted(feature_importances_LR, key = lambda x: x[1], reverse = True)\n",
    "# печатаем пару с наибольшим по модулю весом признака \n",
    "print ('Variable for LR: {} Importance: {}'.format(feature_importances_LR[0][0], feature_importances_LR[0][1])) \n",
    "#for pair in feature_importances_LR:\n",
    " #    print ('Variable: {} Importance: {}'.format(*pair)) "
   ]
  },
  {
   "cell_type": "markdown",
   "metadata": {},
   "source": [
    "#### обучить RandomForest на X_1, получить наибольшее по модулю значение весового коэффициента"
   ]
  },
  {
   "cell_type": "code",
   "execution_count": 15,
   "metadata": {},
   "outputs": [],
   "source": [
    "from sklearn.ensemble import RandomForestClassifier"
   ]
  },
  {
   "cell_type": "code",
   "execution_count": 16,
   "metadata": {},
   "outputs": [
    {
     "name": "stderr",
     "output_type": "stream",
     "text": [
      "/home/thomas/anaconda2/envs/env_py2/lib/python2.7/site-packages/sklearn/ensemble/forest.py:246: FutureWarning: The default value of n_estimators will change from 10 in version 0.20 to 100 in 0.22.\n",
      "  \"10 in version 0.20 to 100 in 0.22.\", FutureWarning)\n"
     ]
    },
    {
     "data": {
      "text/plain": [
       "(23,)"
      ]
     },
     "metadata": {},
     "output_type": "display_data"
    }
   ],
   "source": [
    "rnd_frst = RandomForestClassifier(min_samples_split=2, random_state=0)\n",
    "rnd_frst.fit(X_1, y)\n",
    "display(rnd_frst.feature_importances_.shape)"
   ]
  },
  {
   "cell_type": "code",
   "execution_count": 28,
   "metadata": {},
   "outputs": [
    {
     "name": "stdout",
     "output_type": "stream",
     "text": [
      "Variable for RFC: thalassemia_fixed defect Importance: 0.14\n",
      "Variable for RFC sum: 1.0\n"
     ]
    }
   ],
   "source": [
    "# получаем список \n",
    "importances_rfc = list(rnd_frst.feature_importances_)\n",
    "# формируем пары признак:значение\n",
    "feature_importances_rfc = [(feature, round(importance_rfc, 2)) for feature, importance_rfc in zip(X_1.columns, importances_rfc)]\n",
    "#display(feature_importances_rfc)\n",
    "# сортируем признаки по степени важности по мере убывания\n",
    "feature_importances_rfc = sorted(feature_importances_rfc, key = lambda x: x[1], reverse = True)\n",
    "# печатаем пару с наибольшим по модулю весом признака \n",
    "print ('Variable for RFC: {} Importance: {}'.format(feature_importances_rfc[0][0], feature_importances_rfc[0][1])) \n",
    "#for pair in feature_importances_rfc:\n",
    " #    print ('Variable: {:23} Importance: {}'.format(*pair)) \n",
    "print ('Variable for RFC sum: {}'.format(sum(importances_rfc)))"
   ]
  },
  {
   "cell_type": "markdown",
   "metadata": {},
   "source": [
    "#### Видим, что значения коэффициентов не равны. Также, не совпадают и сами признаки. \n",
    "#### Это происходит по тому, что Логистическая регрессия и Случайный лес - это разные алгоритмы и они воспринимают переменные как важные, исходя из разных принципов. \n",
    "#### В Логистической регрессии вес признака связан со степенью линейной зависимости целевого значения от этого признака. Чем больше вес - тем больше линейная зависимость. \n",
    "#### В Случайном лесе важность признака также зависит от степени его влияния на целевую переменную, но эта зависимость может быть нелинейной. Поэтому, наиболее важные признаки для Логистической регрессии и Случайного леса могут быть разными."
   ]
  },
  {
   "cell_type": "code",
   "execution_count": 18,
   "metadata": {},
   "outputs": [],
   "source": [
    "rnd_frst_1 = RandomForestClassifier(n_estimators=10, max_depth = 3)\n",
    "rnd_frst_1.fit(X_1, y)\n",
    "# визуализирую отдельное небольшое дерево решений\n",
    "from sklearn.tree import export_graphviz\n",
    "import pydot\n",
    "# извлекаю дерево\n",
    "tree_small = rnd_frst_1.estimators_[5]\n",
    "# сохраняю рисунок в файл\n",
    "export_graphviz(tree_small, out_file = 'small_tree.dot', feature_names = X_1.columns, rounded = True, precision = 1)\n",
    "(graph, ) = pydot.graph_from_dot_file('small_tree.dot')\n",
    "graph.write_png('small_tree.png');"
   ]
  },
  {
   "cell_type": "code",
   "execution_count": 19,
   "metadata": {},
   "outputs": [
    {
     "data": {
      "image/png": "[encoded data removed]",
      "text/plain": [
       "<IPython.core.display.Image object>"
      ]
     },
     "execution_count": 19,
     "metadata": {},
     "output_type": "execute_result"
    }
   ],
   "source": [
    "# смотрим рисунок\n",
    "from IPython.display import Image\n",
    "Image(filename='small_tree.png')"
   ]
  },
  {
   "cell_type": "code",
   "execution_count": null,
   "metadata": {},
   "outputs": [],
   "source": []
  },
  {
   "cell_type": "markdown",
   "metadata": {},
   "source": [
    "### 2. Lasso (Least absolute shrinkage and selection operator)  - метод оценивания коэффициентов линейной регрессионной модели"
   ]
  },
  {
   "cell_type": "markdown",
   "metadata": {},
   "source": [
    "Регрессионные модели имеют свойство переобучаться. Переобучение дает неплавные кривые прогнозирования, по другому говоря - \"нерегулярные\". Такие сложные кривые прогнозирования обычно характеризуются весовыми значениями, которые имеют очень большие по модулю величины. Поэтому один из способов уменьшить степень переобучения состоит в том, чтобы не допускать очень больших весовых значений для модели. Это решается путем регуляризации модели.\n",
    "\n",
    "Кроме этого у регрессионных моделей возможно явление мультиколлинеарности, то есть наличие линейной зависимости между признаками. Мультиколлинеарность приводит к неустойчивости оценок. Эта неустойчивость выражается в увеличении статистической неопределенности — дисперсии оценок, когда конкретные результаты сильно различаться для разных выборок несмотря на то, что выборки однородны.\n",
    "Решение проблемы мультиколлинеарности также состоит в регуляризации линейной модели. \n",
    "\n",
    "Регуляризация - это добавление некоторых дополнительных ограничений к условию с целью решить некорректно поставленную задачу или предотвратить переобучение. Эти ограничения часто имеет вид штрафа за сложность модели. \n",
    "\n",
    "При обучении модели мы используем некую меру ошибки, чтобы определять хорошие весовые значения. Есть несколько способов измерения ошибок. Один из самых распространенных методов — вычисление среднеквадратичной ошибки, где мы находим сумму квадратов разности между вычисленными выходными значениями для набора весовых значений и известными, правильными выходными значениями в обучающих данных, а затем делим эту сумму на количество обучающих элементов.\n",
    "\n",
    "Чтобы величины весовых значений модели не становились большими, процесс регуляризации штрафует весовые значения, добавляя их в вычисление ошибки. Если весовые значения включаются в общую ошибку, которая минимизируется, тогда меньшие весовые значения будут давать меньшие значения ошибки. \n",
    "\n",
    "L1-регуляризация штрафует весовые значения добавлением суммы их абсолютных значений к ошибке.\n",
    "\n",
    "Кроме этого, применение L1-регуляризации дает полезный побочный эффект, вызывающий стремление одного или более весовых значений к нулю, а это означает, что соответствующий признак не требуется для решения задачи. Это называется селекцией признаков.  \n",
    "\n",
    "Для нахождения минимального значения функции потерь используется градиентный спуск. \n",
    "\n",
    "При L1-регуляризации дополнительный член является модулем. В случае модуля производная является константой с абсолютной величиной, равной единице. В нуле она не определена, но мы считаем её также равной нулю. Поэтому при L1-регуляризации градиентный спуск будет стремиться к нулю с постоянной скоростью, а достигнув его, там и останется. В следствие этого L1-регуляризация способствует равенству нулю весовых коэффициентов, тем самым провоцируя разрежённость выборки.\n",
    "\n",
    "Нужно учитывать, что регуляризация дает смещение оценок, но в целом суммарная ошибка может быть меньше, поскольку меньше дисперсия оценок.\n",
    "Недостаток L1-регуляризации состоит в том, что этот метод сложно использовать с алгоритмами ML-обучения, в которых используются численные методы для вычисления градиента. "
   ]
  },
  {
   "cell_type": "code",
   "execution_count": null,
   "metadata": {},
   "outputs": [],
   "source": []
  },
  {
   "cell_type": "code",
   "execution_count": 34,
   "metadata": {},
   "outputs": [],
   "source": []
  },
  {
   "cell_type": "code",
   "execution_count": null,
   "metadata": {},
   "outputs": [],
   "source": []
  },
  {
   "cell_type": "code",
   "execution_count": null,
   "metadata": {},
   "outputs": [],
   "source": []
  },
  {
   "cell_type": "code",
   "execution_count": null,
   "metadata": {},
   "outputs": [],
   "source": []
  },
  {
   "cell_type": "code",
   "execution_count": null,
   "metadata": {},
   "outputs": [],
   "source": []
  }
 ],
 "metadata": {
  "kernelspec": {
   "display_name": "Python 2",
   "language": "python",
   "name": "python2"
  },
  "language_info": {
   "codemirror_mode": {
    "name": "ipython",
    "version": 2
   },
   "file_extension": ".py",
   "mimetype": "text/x-python",
   "name": "python",
   "nbconvert_exporter": "python",
   "pygments_lexer": "ipython2",
   "version": "2.7.16"
  }
 },
 "nbformat": 4,
 "nbformat_minor": 2
}
