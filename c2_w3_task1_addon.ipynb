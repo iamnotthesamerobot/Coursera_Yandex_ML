{
 "cells": [
  {
   "cell_type": "markdown",
   "metadata": {},
   "source": [
    "### Задание № 1 \n",
    "\n",
    "##### Эссе с элементами кодинга:\n",
    "### «Что такое категориальный признак, как с ним бороться и зачем».\n",
    "##### К каждому пункту, описывающему определенный метод кодировки, писать код, как бы вы это делали на условном признаке X."
   ]
  },
  {
   "cell_type": "markdown",
   "metadata": {},
   "source": [
    "   Категориальный (факторный, номинальный) признак - это признак, который описывает свойство объекта выборки. \n",
    "Например: \"цвет\" - \"зеленый\", \"красный\"; \"форма\" - \"квадратный\", \"круглый\"; и т.п..\n",
    "То есть существует общее признаковое описание - \"цвет\" (или \"форма\"), которое содержит \n",
    "в себе категории признаков - \"зеленый\", \"красный\", и т.д. \n",
    "Отсюда и название - \"Категориальные признаки\".\n",
    "   Особенность категориальных признаков в том, что с ними нельзя проводить математические и\n",
    "логические операции типа сложение, сравнение на \"больше\"-\"меньше\", получение среднего \n",
    "зачения и т.п.. Их можно только сравнивать на тождественность. То есть проводить операции типа \"признак объекта 1 равен (не равен) признаку объекта 2\".\n"
   ]
  },
  {
   "cell_type": "markdown",
   "metadata": {},
   "source": [
    "   Из вышесказанного очевидно, что оперирование категориальными признаками в исходном виде \n",
    "для решения задач линейной регрессии невозможно. Необходима перекодировка. \n",
    "    Создадим для демонстрации выборку, в которой признак \"вес\" - вещественный признак, \n",
    "\"год выпуска\" - категориальный, но это число, \"цвет\" - категориальный."
   ]
  },
  {
   "cell_type": "code",
   "execution_count": 80,
   "metadata": {},
   "outputs": [
    {
     "data": {
      "text/html": [
       "<div>\n",
       "<style scoped>\n",
       "    .dataframe tbody tr th:only-of-type {\n",
       "        vertical-align: middle;\n",
       "    }\n",
       "\n",
       "    .dataframe tbody tr th {\n",
       "        vertical-align: top;\n",
       "    }\n",
       "\n",
       "    .dataframe thead th {\n",
       "        text-align: right;\n",
       "    }\n",
       "</style>\n",
       "<table border=\"1\" class=\"dataframe\">\n",
       "  <thead>\n",
       "    <tr style=\"text-align: right;\">\n",
       "      <th></th>\n",
       "      <th>вес</th>\n",
       "      <th>год выпуска</th>\n",
       "      <th>цвет</th>\n",
       "    </tr>\n",
       "  </thead>\n",
       "  <tbody>\n",
       "    <tr>\n",
       "      <th>0</th>\n",
       "      <td>10.2</td>\n",
       "      <td>2017</td>\n",
       "      <td>красный</td>\n",
       "    </tr>\n",
       "    <tr>\n",
       "      <th>1</th>\n",
       "      <td>11.7</td>\n",
       "      <td>2017</td>\n",
       "      <td>зеленый</td>\n",
       "    </tr>\n",
       "    <tr>\n",
       "      <th>2</th>\n",
       "      <td>14.1</td>\n",
       "      <td>2018</td>\n",
       "      <td>красный</td>\n",
       "    </tr>\n",
       "    <tr>\n",
       "      <th>3</th>\n",
       "      <td>9.0</td>\n",
       "      <td>2017</td>\n",
       "      <td>синий</td>\n",
       "    </tr>\n",
       "  </tbody>\n",
       "</table>\n",
       "</div>"
      ],
      "text/plain": [
       "    вес  год выпуска     цвет\n",
       "0  10.2         2017  красный\n",
       "1  11.7         2017  зеленый\n",
       "2  14.1         2018  красный\n",
       "3   9.0         2017    синий"
      ]
     },
     "execution_count": 80,
     "metadata": {},
     "output_type": "execute_result"
    }
   ],
   "source": [
    "import pandas as pd\n",
    "data = pd.DataFrame({'цвет': ['красный', 'зеленый', 'красный', 'синий'],\n",
    "                    'год выпуска': [2017, 2017, 2018, 2017],\n",
    "                    'вес': [10.2, 11.7, 14.1, 9.0]})\n",
    "data.head()"
   ]
  },
  {
   "cell_type": "markdown",
   "metadata": {},
   "source": [
    "##### Как первично автоматически отсортировать категориальные признаки и по каким маркерам  "
   ]
  },
  {
   "cell_type": "code",
   "execution_count": 81,
   "metadata": {},
   "outputs": [
    {
     "name": "stdout",
     "output_type": "stream",
     "text": [
      "признак - вес\n",
      "признак - год выпуска, мало уникальных значений\n",
      "признак - цвет, тип данных - строковый\n"
     ]
    }
   ],
   "source": [
    "# для первичной автоматической сортировки признаков и выделения из них категориальных можно \n",
    "# отобрать те признаки, значения которых мало уникальны (значение уникальности выбираем \n",
    "# произвольно) и/или имеют строковый тип данных\n",
    "def find_categorical_features(data):\n",
    "    for name in data.columns:\n",
    "        feature = 'признак - '\n",
    "        feature += name\n",
    "        if (type(data[name][0]) == str):\n",
    "            feature += ', тип данных - строковый'\n",
    "        if (data[name].nunique() <= 2):\n",
    "            feature += ', мало уникальных значений'\n",
    "        if feature != name:\n",
    "            print feature\n",
    "find_categorical_features(data)"
   ]
  },
  {
   "cell_type": "markdown",
   "metadata": {},
   "source": [
    "итак, мы видим, что у признака \"год выпуска\" мало уникальных значений, \n",
    "несмотря на то, что тип данных - целое число. а у признака \"цвет\" - строковый тип данных. малое число уникальных значений, как и строковый тип данных - индикаторы категориалього признака. "
   ]
  },
  {
   "cell_type": "markdown",
   "metadata": {},
   "source": [
    "##### Кодировка заменой признака на число  "
   ]
  },
  {
   "cell_type": "markdown",
   "metadata": {},
   "source": [
    "Простейший способ кодировки - замена категорий на целые числа. для этого используется \n",
    "кодировщик sklearn.preprocessing.LabelEncoder\n",
    "Продемонстрируем его работу на колонке \"цвет\":"
   ]
  },
  {
   "cell_type": "code",
   "execution_count": 82,
   "metadata": {},
   "outputs": [
    {
     "data": {
      "text/html": [
       "<div>\n",
       "<style scoped>\n",
       "    .dataframe tbody tr th:only-of-type {\n",
       "        vertical-align: middle;\n",
       "    }\n",
       "\n",
       "    .dataframe tbody tr th {\n",
       "        vertical-align: top;\n",
       "    }\n",
       "\n",
       "    .dataframe thead th {\n",
       "        text-align: right;\n",
       "    }\n",
       "</style>\n",
       "<table border=\"1\" class=\"dataframe\">\n",
       "  <thead>\n",
       "    <tr style=\"text-align: right;\">\n",
       "      <th></th>\n",
       "      <th>вес</th>\n",
       "      <th>год выпуска</th>\n",
       "      <th>цвет</th>\n",
       "      <th>цвет кодированный</th>\n",
       "    </tr>\n",
       "  </thead>\n",
       "  <tbody>\n",
       "    <tr>\n",
       "      <th>0</th>\n",
       "      <td>10.2</td>\n",
       "      <td>2017</td>\n",
       "      <td>красный</td>\n",
       "      <td>1</td>\n",
       "    </tr>\n",
       "    <tr>\n",
       "      <th>1</th>\n",
       "      <td>11.7</td>\n",
       "      <td>2017</td>\n",
       "      <td>зеленый</td>\n",
       "      <td>0</td>\n",
       "    </tr>\n",
       "    <tr>\n",
       "      <th>2</th>\n",
       "      <td>14.1</td>\n",
       "      <td>2018</td>\n",
       "      <td>красный</td>\n",
       "      <td>1</td>\n",
       "    </tr>\n",
       "    <tr>\n",
       "      <th>3</th>\n",
       "      <td>9.0</td>\n",
       "      <td>2017</td>\n",
       "      <td>синий</td>\n",
       "      <td>2</td>\n",
       "    </tr>\n",
       "  </tbody>\n",
       "</table>\n",
       "</div>"
      ],
      "text/plain": [
       "    вес  год выпуска     цвет  цвет кодированный\n",
       "0  10.2         2017  красный                  1\n",
       "1  11.7         2017  зеленый                  0\n",
       "2  14.1         2018  красный                  1\n",
       "3   9.0         2017    синий                  2"
      ]
     },
     "execution_count": 82,
     "metadata": {},
     "output_type": "execute_result"
    }
   ],
   "source": [
    "from sklearn.preprocessing import LabelEncoder\n",
    "to_integr_encoder = LabelEncoder()\n",
    "to_integr_encoder.fit(data['цвет'])\n",
    "data['цвет кодированный'] = to_integr_encoder.transform(data['цвет'])\n",
    "data.head()"
   ]
  },
  {
   "cell_type": "markdown",
   "metadata": {},
   "source": [
    "кодирование произошло, но этот способ сильно упрощает данные, что ведет к искажению информации."
   ]
  },
  {
   "cell_type": "markdown",
   "metadata": {},
   "source": [
    "##### Наивное кодирование "
   ]
  },
  {
   "cell_type": "markdown",
   "metadata": {},
   "source": [
    "Универсальным способом перекодировки столбца с признаковым описанием без потери информации \n",
    "считается замена этого столбца на бинарную матрицу. Этот способ еще\n",
    "называют наивным (dummy) или  one-hot encoding. Для его реализации используют sklearn.preprocessing.OneHotEncoder "
   ]
  },
  {
   "cell_type": "code",
   "execution_count": 83,
   "metadata": {},
   "outputs": [
    {
     "name": "stdout",
     "output_type": "stream",
     "text": [
      "[[0. 1. 0.]\n",
      " [1. 0. 0.]\n",
      " [0. 1. 0.]\n",
      " [0. 0. 1.]]\n"
     ]
    },
    {
     "data": {
      "text/html": [
       "<div>\n",
       "<style scoped>\n",
       "    .dataframe tbody tr th:only-of-type {\n",
       "        vertical-align: middle;\n",
       "    }\n",
       "\n",
       "    .dataframe tbody tr th {\n",
       "        vertical-align: top;\n",
       "    }\n",
       "\n",
       "    .dataframe thead th {\n",
       "        text-align: right;\n",
       "    }\n",
       "</style>\n",
       "<table border=\"1\" class=\"dataframe\">\n",
       "  <thead>\n",
       "    <tr style=\"text-align: right;\">\n",
       "      <th></th>\n",
       "      <th>вес</th>\n",
       "      <th>год выпуска</th>\n",
       "      <th>цвет</th>\n",
       "      <th>цвет кодированный</th>\n",
       "      <th>цвет кодированный=0</th>\n",
       "      <th>цвет кодированный=1</th>\n",
       "      <th>цвет кодированный=2</th>\n",
       "    </tr>\n",
       "  </thead>\n",
       "  <tbody>\n",
       "    <tr>\n",
       "      <th>0</th>\n",
       "      <td>10.2</td>\n",
       "      <td>2017</td>\n",
       "      <td>красный</td>\n",
       "      <td>1</td>\n",
       "      <td>0.0</td>\n",
       "      <td>1.0</td>\n",
       "      <td>0.0</td>\n",
       "    </tr>\n",
       "    <tr>\n",
       "      <th>1</th>\n",
       "      <td>11.7</td>\n",
       "      <td>2017</td>\n",
       "      <td>зеленый</td>\n",
       "      <td>0</td>\n",
       "      <td>1.0</td>\n",
       "      <td>0.0</td>\n",
       "      <td>0.0</td>\n",
       "    </tr>\n",
       "    <tr>\n",
       "      <th>2</th>\n",
       "      <td>14.1</td>\n",
       "      <td>2018</td>\n",
       "      <td>красный</td>\n",
       "      <td>1</td>\n",
       "      <td>0.0</td>\n",
       "      <td>1.0</td>\n",
       "      <td>0.0</td>\n",
       "    </tr>\n",
       "    <tr>\n",
       "      <th>3</th>\n",
       "      <td>9.0</td>\n",
       "      <td>2017</td>\n",
       "      <td>синий</td>\n",
       "      <td>2</td>\n",
       "      <td>0.0</td>\n",
       "      <td>0.0</td>\n",
       "      <td>1.0</td>\n",
       "    </tr>\n",
       "  </tbody>\n",
       "</table>\n",
       "</div>"
      ],
      "text/plain": [
       "    вес  год выпуска     цвет  цвет кодированный  цвет кодированный=0  \\\n",
       "0  10.2         2017  красный                  1                  0.0   \n",
       "1  11.7         2017  зеленый                  0                  1.0   \n",
       "2  14.1         2018  красный                  1                  0.0   \n",
       "3   9.0         2017    синий                  2                  0.0   \n",
       "\n",
       "   цвет кодированный=1  цвет кодированный=2  \n",
       "0                  1.0                  0.0  \n",
       "1                  0.0                  0.0  \n",
       "2                  1.0                  0.0  \n",
       "3                  0.0                  1.0  "
      ]
     },
     "execution_count": 83,
     "metadata": {},
     "output_type": "execute_result"
    }
   ],
   "source": [
    "from sklearn.preprocessing import OneHotEncoder \n",
    "to_binary_matrix_encoder = OneHotEncoder(sparse=False)\n",
    "new_features = to_binary_matrix_encoder.fit_transform(data['цвет кодированный'].\n",
    "                                                     values.reshape(-1, 1))\n",
    "tmp = pd.DataFrame(new_features, columns = \n",
    "                   ['цвет кодированный='+str(i) for i in range(new_features.shape[1]) ])\n",
    "print new_features\n",
    "data_new = pd.concat([data, tmp], axis=1)\n",
    "data_new.head()"
   ]
  },
  {
   "cell_type": "markdown",
   "metadata": {},
   "source": [
    "кодирование произошло, но этот способ увеличивает объем данных."
   ]
  },
  {
   "cell_type": "markdown",
   "metadata": {},
   "source": [
    "##### \"Умное\" кодирование"
   ]
  },
  {
   "cell_type": "markdown",
   "metadata": {},
   "source": [
    "чтобы избежать увеличения объема данных, можно кодировать через интерпретацию \n",
    "связанных данных. например, мы можем закодировать \"цвет\"-\"красный\" через средний вес объектов \"красного\" цвета в выборке. "
   ]
  },
  {
   "cell_type": "code",
   "execution_count": 86,
   "metadata": {},
   "outputs": [
    {
     "data": {
      "text/html": [
       "<div>\n",
       "<style scoped>\n",
       "    .dataframe tbody tr th:only-of-type {\n",
       "        vertical-align: middle;\n",
       "    }\n",
       "\n",
       "    .dataframe tbody tr th {\n",
       "        vertical-align: top;\n",
       "    }\n",
       "\n",
       "    .dataframe thead th {\n",
       "        text-align: right;\n",
       "    }\n",
       "</style>\n",
       "<table border=\"1\" class=\"dataframe\">\n",
       "  <thead>\n",
       "    <tr style=\"text-align: right;\">\n",
       "      <th></th>\n",
       "      <th>вес</th>\n",
       "      <th>год выпуска</th>\n",
       "      <th>цвет</th>\n",
       "      <th>цвет кодированный через средний вес</th>\n",
       "    </tr>\n",
       "  </thead>\n",
       "  <tbody>\n",
       "    <tr>\n",
       "      <th>0</th>\n",
       "      <td>10.2</td>\n",
       "      <td>2017</td>\n",
       "      <td>красный</td>\n",
       "      <td>12.15</td>\n",
       "    </tr>\n",
       "    <tr>\n",
       "      <th>1</th>\n",
       "      <td>11.7</td>\n",
       "      <td>2017</td>\n",
       "      <td>зеленый</td>\n",
       "      <td>11.70</td>\n",
       "    </tr>\n",
       "    <tr>\n",
       "      <th>2</th>\n",
       "      <td>14.1</td>\n",
       "      <td>2018</td>\n",
       "      <td>красный</td>\n",
       "      <td>12.15</td>\n",
       "    </tr>\n",
       "    <tr>\n",
       "      <th>3</th>\n",
       "      <td>9.0</td>\n",
       "      <td>2017</td>\n",
       "      <td>синий</td>\n",
       "      <td>9.00</td>\n",
       "    </tr>\n",
       "  </tbody>\n",
       "</table>\n",
       "</div>"
      ],
      "text/plain": [
       "    вес  год выпуска     цвет  цвет кодированный через средний вес\n",
       "0  10.2         2017  красный                                12.15\n",
       "1  11.7         2017  зеленый                                11.70\n",
       "2  14.1         2018  красный                                12.15\n",
       "3   9.0         2017    синий                                 9.00"
      ]
     },
     "execution_count": 86,
     "metadata": {},
     "output_type": "execute_result"
    }
   ],
   "source": [
    "def code_by_mean_weight(data, cat_feature, real_feature):\n",
    "    return (data[cat_feature].map(data.groupby(cat_feature)[real_feature].mean()))\n",
    "\n",
    "data['цвет кодированный через средний вес'] = code_by_mean_weight(data, 'цвет', 'вес')\n",
    "data.head()"
   ]
  },
  {
   "cell_type": "code",
   "execution_count": 115,
   "metadata": {},
   "outputs": [
    {
     "name": "stdout",
     "output_type": "stream",
     "text": [
      "initial categorial features column\n",
      "0    красный\n",
      "1    зеленый\n",
      "2    красный\n",
      "3      синий\n",
      "Name: цвет, dtype: object\n",
      "vectorized data\n",
      "[[0. 1. 0.]\n",
      " [1. 0. 0.]\n",
      " [0. 1. 0.]\n",
      " [0. 0. 1.]]\n"
     ]
    }
   ],
   "source": [
    "# и еще один способ наивного преобразования - при помощи метода DictVectorizer\n",
    "import pandas as pd\n",
    "from sklearn.feature_extraction import DictVectorizer as DV\n",
    "\n",
    "data = pd.DataFrame({'цвет': ['красный', 'зеленый', 'красный', 'синий'],\n",
    "                    'вес': [10.2, 11.7, 14.1, 9.0]})\n",
    "\n",
    "encoder = DV(sparse = False)\n",
    "categorical_columns = ['цвет']\n",
    "categorical_data = data_formated[categorical_columns]\n",
    "categorical_data_vectorized = encoder.fit_transform(categorical_data.T.to_dict().values())\n",
    "print 'initial categorial features column'\n",
    "print data['цвет']\n",
    "print 'vectorized data'\n",
    "print categorical_data_vectorized"
   ]
  },
  {
   "cell_type": "markdown",
   "metadata": {},
   "source": [
    "# Задание № 2 \n",
    "\n",
    "##### Эссе в 1 предложение: \n",
    "### «Что такое задача регрессии»."
   ]
  },
  {
   "cell_type": "markdown",
   "metadata": {},
   "source": [
    "Задача регрессии - создание математической модели, которая выстраивает связь между группой факторов, полученных при наблюдении за ними разными способами (как на одном (множестве) объектов, так и в один (разные) период времени), и неким объясняемым событием или объясняемой величиной, связанными с этими факторами общим объектом."
   ]
  },
  {
   "cell_type": "code",
   "execution_count": null,
   "metadata": {},
   "outputs": [],
   "source": []
  }
 ],
 "metadata": {
  "kernelspec": {
   "display_name": "Python 2",
   "language": "python",
   "name": "python2"
  },
  "language_info": {
   "codemirror_mode": {
    "name": "ipython",
    "version": 2
   },
   "file_extension": ".py",
   "mimetype": "text/x-python",
   "name": "python",
   "nbconvert_exporter": "python",
   "pygments_lexer": "ipython2",
   "version": "2.7.16"
  }
 },
 "nbformat": 4,
 "nbformat_minor": 2
}
