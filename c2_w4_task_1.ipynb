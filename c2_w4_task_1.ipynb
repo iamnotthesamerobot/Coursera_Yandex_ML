{
 "cells": [
  {
   "cell_type": "markdown",
   "metadata": {},
   "source": [
    "# Sklearn"
   ]
  },
  {
   "cell_type": "markdown",
   "metadata": {},
   "source": [
    "## sklearn.ensemble.RandomForestClassifier"
   ]
  },
  {
   "cell_type": "markdown",
   "metadata": {},
   "source": [
    "документация:  http://scikit-learn.org/stable/modules/generated/sklearn.ensemble.RandomForestClassifier.html"
   ]
  },
  {
   "cell_type": "code",
   "execution_count": 7,
   "metadata": {},
   "outputs": [
    {
     "name": "stdout",
     "output_type": "stream",
     "text": [
      "Populating the interactive namespace from numpy and matplotlib\n"
     ]
    },
    {
     "name": "stderr",
     "output_type": "stream",
     "text": [
      "/home/thomas/anaconda2/envs/env_py2/lib/python2.7/site-packages/IPython/core/magics/pylab.py:161: UserWarning: pylab import has clobbered these variables: ['sqrt']\n",
      "`%matplotlib` prevents importing * from pylab and numpy\n",
      "  \"\\n`%matplotlib` prevents importing * from pylab and numpy\"\n"
     ]
    }
   ],
   "source": [
    "%pylab inline"
   ]
  },
  {
   "cell_type": "code",
   "execution_count": 8,
   "metadata": {},
   "outputs": [],
   "source": [
    "from sklearn import ensemble, model_selection, metrics \n",
    "from sklearn.model_selection import learning_curve\n",
    "import numpy as np\n",
    "import pandas as pd"
   ]
  },
  {
   "cell_type": "markdown",
   "metadata": {},
   "source": [
    "### Данные"
   ]
  },
  {
   "cell_type": "markdown",
   "metadata": {},
   "source": [
    "Загрузите датасет digits с помощью функции load_digits из sklearn.datasets"
   ]
  },
  {
   "cell_type": "code",
   "execution_count": 9,
   "metadata": {},
   "outputs": [
    {
     "name": "stdout",
     "output_type": "stream",
     "text": [
      "(1797, 64)\n"
     ]
    },
    {
     "data": {
      "text/plain": [
       "<Figure size 432x288 with 0 Axes>"
      ]
     },
     "metadata": {},
     "output_type": "display_data"
    },
    {
     "data": {
      "image/png": "[encoded data removed]",
      "text/plain": [
       "<Figure size 288x288 with 1 Axes>"
      ]
     },
     "metadata": {
      "needs_background": "light"
     },
     "output_type": "display_data"
    }
   ],
   "source": [
    "# вызываем функцию load_digits из библиотеки sklearn.datasets\n",
    "from sklearn.datasets import load_digits\n",
    "# создаем объект класса load_digits() \n",
    "digits = load_digits()\n",
    "# сморим размер выборки\n",
    "print(digits.data.shape)\n",
    "# для вызова изображения из датасета импортируем matplotlib.pyplot\n",
    "import matplotlib.pyplot as plt \n",
    "# зададим изображать рисунок в оттенках серого \n",
    "plt.gray() \n",
    "# если нужно вызвать изображение в негативе то в plt.matshow отправляем параметр cmap='gray_r'  \n",
    "plt.matshow(digits.images[7], cmap='gray_r') \n",
    "plt.show() "
   ]
  },
  {
   "cell_type": "markdown",
   "metadata": {},
   "source": [
    "подготовьте матрицу признаков X и ответы на обучающей выборке y (вам потребуются поля data и target в объекте, который возвращает load_digits)."
   ]
  },
  {
   "cell_type": "code",
   "execution_count": 10,
   "metadata": {},
   "outputs": [
    {
     "name": "stdout",
     "output_type": "stream",
     "text": [
      "['images', 'data', 'target_names', 'DESCR', 'target']\n"
     ]
    }
   ],
   "source": [
    "# данные в сете организованы по принципу ключ:значение. вызываем список ключей \n",
    "print digits.keys()"
   ]
  },
  {
   "cell_type": "code",
   "execution_count": 11,
   "metadata": {},
   "outputs": [
    {
     "name": "stdout",
     "output_type": "stream",
     "text": [
      "[ 0.  0.  5. 13.  9.  1.  0.  0.  0.  0. 13. 15. 10. 15.  5.  0.  0.  3.\n",
      " 15.  2.  0. 11.  8.  0.  0.  4. 12.  0.  0.  8.  8.  0.  0.  5.  8.  0.\n",
      "  0.  9.  8.  0.  0.  4. 11.  0.  1. 12.  7.  0.  0.  2. 14.  5. 10. 12.\n",
      "  0.  0.  0.  0.  6. 13. 10.  0.  0.  0.]\n",
      "0\n"
     ]
    }
   ],
   "source": [
    "# вызываем признак 'data'\n",
    "X = digits['data']\n",
    "# исследуем признак. очевидно он представляет из себя вектор где каждый элемент это\n",
    "# оттенок серого\n",
    "print X[0]\n",
    "# вызываем целевое значение 'target'\n",
    "y = digits['target']\n",
    "# исследуем целевое значение. очеквидно что это цифра и нам предстоит решать задачу \n",
    "# классификации\n",
    "print y[0]"
   ]
  },
  {
   "cell_type": "markdown",
   "metadata": {},
   "source": [
    "Для оценки качества далее нужно будет использовать cross_val_score из sklearn.cross_validation с параметром cv=10. Эта функция реализует k-fold cross validation c k равным значению параметра cv. Мы предлагаем использовать k=10, чтобы полученные оценки качества имели небольшой разброс, и было проще проверить полученные ответы. На практике же часто хватает и k=5. Функция cross_val_score будет возвращать numpy.ndarray, в котором будет k чисел - качество в каждом из k экспериментов k-fold cross validation. Для получения среднего значения (которое и будет оценкой качества работы) вызовите метод .mean() у массива, который возвращает cross_val_score.\n",
    "Создайте DecisionTreeClassifier с настройками по умолчанию и измерьте качество его работы с помощью cross_val_score. Эта величина и будет ответом в пункте 1."
   ]
  },
  {
   "cell_type": "code",
   "execution_count": 12,
   "metadata": {},
   "outputs": [
    {
     "name": "stdout",
     "output_type": "stream",
     "text": [
      "CVS_for_decision_tree 0.8270130401451314\n"
     ]
    }
   ],
   "source": [
    "# вызываем класс решающих деревьев DecisionTreeClassifier и создаем объект этого класса \n",
    "from sklearn.tree import DecisionTreeClassifier\n",
    "decision_tree_estimator = DecisionTreeClassifier()\n",
    "# вызываем функцию cross_val_score которая оценивает качество методом перекресной проверки\n",
    "from sklearn.model_selection import cross_val_score\n",
    "# передаем в функцию аргументы - матрицу признаков и вектор целевых значений, отдельно \n",
    "# указывем, что выборку нужно разбить на 10 фолдов (обычно достаточно 5). берем (по условию)\n",
    "# среднее значение\n",
    "CVS_for_decision_tree = cross_val_score(decision_tree_estimator, X, y, cv=10).mean()\n",
    "print 'CVS_for_decision_tree', CVS_for_decision_tree\n",
    "# Качество работы одного решающего дерева обычно получается не очень высоким, \n",
    "# но на этом датасете получилось неплохо. Обратите внимание - дерево вполне могло получиться\n",
    "# сильно переобученным, ведь мы не ограничивали его глубину"
   ]
  },
  {
   "cell_type": "code",
   "execution_count": 13,
   "metadata": {},
   "outputs": [],
   "source": [
    "def write_answer_1(CVS):\n",
    "    with open(\"random_forest_answer1.txt\", \"w\") as result:\n",
    "        result.write(str(CVS))\n",
    "write_answer_1(CVS_for_decision_tree)"
   ]
  },
  {
   "cell_type": "markdown",
   "metadata": {
    "collapsed": true
   },
   "source": [
    "Воспользуйтесь BaggingClassifier из sklearn.ensemble, чтобы обучить бэггинг над DecisionTreeClassifier. Используйте в BaggingClassifier параметры по умолчанию, задав только количество деревьев равным 100.\n",
    "\n",
    "Качество классификации новой модели - ответ в пункте 2. Обратите внимание, как соотносится качество работы композиции решающих деревьев с качеством работы одного решающего дерева."
   ]
  },
  {
   "cell_type": "code",
   "execution_count": 15,
   "metadata": {},
   "outputs": [
    {
     "name": "stdout",
     "output_type": "stream",
     "text": [
      "CVS_for_bagging_classifier 0.923261574839\n"
     ]
    }
   ],
   "source": [
    "# Бэггинг - это технология классификации, использующая композиции алгоритмов, каждый из \n",
    "# которых обучается независимо. Результат классификации определяется путем голосования. \n",
    "# Бэггинг позволяет снизить процент ошибки классификации в случае, когда высока дисперсия \n",
    "# ошибки базового метода. \n",
    "# вызываем класс BaggingClassifier и создаем объект этого класса\n",
    "from sklearn.ensemble import BaggingClassifier\n",
    "# создаем объект класса BaggingClassifier. отдельно указываем количество деревьев == 100\n",
    "bagging_classifier = BaggingClassifier(n_estimators = 100)\n",
    "# усредняем оценку качества перекрестной проверки на 10 фолдах\n",
    "CVS_for_bagging_classifier = cross_val_score(bagging_classifier, X, y, cv=10).mean()\n",
    "print 'CVS_for_bagging_classifier', CVS_for_bagging_classifier\n",
    "# Деревья неустойчивы к изменениям в обучающей выборке, поэтому в результате усреднения \n",
    "# по деревьям, построенным на немного разных выборках (как это происходит в бэггинге), \n",
    "# получается более точный ответ."
   ]
  },
  {
   "cell_type": "code",
   "execution_count": 16,
   "metadata": {},
   "outputs": [],
   "source": [
    "def write_answer_2(CVS):\n",
    "    with open(\"random_forest_answer2.txt\", \"w\") as result:\n",
    "        result.write(str(CVS))\n",
    "write_answer_2(CVS_for_bagging_classifier)"
   ]
  },
  {
   "cell_type": "markdown",
   "metadata": {},
   "source": [
    "Теперь изучите параметры BaggingClassifier и выберите их такими, чтобы каждый базовый алгоритм обучался не на всех d признаках, а на sqrt(d) случайных признаков. Качество работы получившегося классификатора - ответ в пункте 3. Корень из числа признаков - часто используемая эвристика в задачах классификации, в задачах регрессии же часто берут число признаков, деленное на три. Но в общем случае ничто не мешает вам выбирать любое другое число случайных признаков.\n"
   ]
  },
  {
   "cell_type": "code",
   "execution_count": 46,
   "metadata": {},
   "outputs": [
    {
     "name": "stdout",
     "output_type": "stream",
     "text": [
      "CVS_for_bagging_classifier_by_sqrd_features 0.9476926766648163\n"
     ]
    }
   ],
   "source": [
    "from math import sqrt\n",
    "# получаем требуемое значение - корень квадратный от количества признаков в выборке\n",
    "features_sqrt = int(sqrt(X.shape[0]))\n",
    "# создаем объект класса BaggingClassifier. отдельно указываем количество случайно взятых\n",
    "# признаков max_features = features_sqrt\n",
    "bagging_classifier_by_sqrd_features = BaggingClassifier(n_estimators = 100, max_features = features_sqrt)\n",
    "CVS_for_bagging_classifier_by_sqrd_features = cross_val_score(bagging_classifier_by_sqrd_features, X, y, cv=10).mean()\n",
    "print 'CVS_for_bagging_classifier_by_sqrd_features', CVS_for_bagging_classifier_by_sqrd_features\n",
    "# С добавлением выбора случайных признаков деревья стали различаться еще больше, \n",
    "# в результате композиция работает лучше."
   ]
  },
  {
   "cell_type": "code",
   "execution_count": 47,
   "metadata": {},
   "outputs": [],
   "source": [
    "def write_answer_3(CVS):\n",
    "    with open(\"random_forest_answer3.txt\", \"w\") as result:\n",
    "        result.write(str(CVS))\n",
    "write_answer_3(CVS_for_bagging_classifier_by_sqrd_features)"
   ]
  },
  {
   "cell_type": "markdown",
   "metadata": {},
   "source": [
    "Выбрать случайные признаки не один раз на все дерево, а при построении каждой вершины дерева. Для этого убрать выбор случайного подмножества признаков в BaggingClassifier и добавить его в DecisionTreeClassifier. Какой параметр за это отвечает, можно понять из документации sklearn. Выбирать sqrt(d) признаков. Качество полученного классификатора на контрольной выборке и будет ответом в пункте 4."
   ]
  },
  {
   "cell_type": "code",
   "execution_count": 55,
   "metadata": {},
   "outputs": [
    {
     "name": "stdout",
     "output_type": "stream",
     "text": [
      "CVS_for_DT_by_features_sqrt 0.9427126837536258\n"
     ]
    }
   ],
   "source": [
    "# создаем объект класса DecisionTreeClassifier. отдельно указываем количество признаков - features_sqrt \n",
    "DTE_by_sqrt_f = DecisionTreeClassifier(max_features = features_sqrt)\n",
    "# передаем объект в качестве аргумента в бэггинг классификатор\n",
    "bagging_classifier_by_DTE_sqrd_f = BaggingClassifier(DTE_by_sqrt_f, n_estimators = 100)\n",
    "# измеряем качество. усредняем оценку качества перекрестной проверки на 10 фолдах\n",
    "CVS_for_DT_by_features_sqrt = cross_val_score(bagging_classifier_by_DTE_sqrd_f, X, y, cv=10).mean()\n",
    "print 'CVS_for_DT_by_features_sqrt', CVS_for_DT_by_features_sqrt\n",
    "# Если выбирать случайные признаки в каждой вершине, отличия между деревьями становятся \n",
    "# еще более существенными, что хорошо сказывается на качестве работы композиции. \n",
    "# Именно так и устроен случайный лес."
   ]
  },
  {
   "cell_type": "code",
   "execution_count": 52,
   "metadata": {},
   "outputs": [],
   "source": [
    "def write_answer_4(CVS):\n",
    "    with open(\"random_forest_answer4.txt\", \"w\") as result:\n",
    "        result.write(str(CVS))\n",
    "write_answer_4(CVS_for_decision_tree__by_features_sqrt)"
   ]
  },
  {
   "cell_type": "markdown",
   "metadata": {},
   "source": [
    "Полученный в пункте 4 классификатор - бэггинг на рандомизированных деревьях (в которых при построении каждой вершины выбирается случайное подмножество признаков и разбиение ищется только по ним). Это в точности соответствует алгоритму Random Forest, поэтому почему бы не сравнить качество работы классификатора с RandomForestClassifier из sklearn.ensemble. Сделайте это, а затем изучите, как качество классификации на данном датасете зависит от количества деревьев, количества признаков, выбираемых при построении каждой вершины дерева, а также ограничений на глубину дерева. Для наглядности лучше построить графики зависимости качества от значений параметров, но для сдачи задания это делать не обязательно.\n",
    "\n",
    "На основе наблюдений выпишите через пробел номера правильных утверждений из приведенных ниже в порядке возрастания номера (это будет ответ в п.5)\n",
    "\n",
    "1) Случайный лес сильно переобучается с ростом количества деревьев\n",
    "\n",
    "2) При очень маленьком числе деревьев (5, 10, 15), случайный лес работает хуже, чем при большем числе деревьев\n",
    "\n",
    "3) С ростом количества деревьев в случайном лесе, в какой-то момент деревьев становится достаточно для высокого качества классификации, а затем качество существенно не меняется."
   ]
  },
  {
   "cell_type": "code",
   "execution_count": 59,
   "metadata": {},
   "outputs": [
    {
     "name": "stdout",
     "output_type": "stream",
     "text": [
      "CVS_for_rf_classifier, trees: 5 0.8949058292080501\n",
      "CVS_for_rf_classifier, trees: 10 0.9305333909763152\n",
      "CVS_for_rf_classifier, trees: 15 0.9321788606479539\n",
      "CVS_for_rf_classifier, trees: 50 0.9494534874161682\n",
      "CVS_for_rf_classifier, trees: 100 0.9499538975818241\n"
     ]
    }
   ],
   "source": [
    "from sklearn.ensemble import RandomForestClassifier\n",
    "# создаем цикл в котором на каждой итерации меняем количество деревьев для классификатора\n",
    "# класса RandomForestClassifier. полученные значения записываем\n",
    "trees = [5, 10, 15, 50, 100]\n",
    "CVS = []\n",
    "for tree in trees:\n",
    "    rf_classifier = RandomForestClassifier(n_estimators = tree, max_depth = 10, random_state = 1)\n",
    "    CVS_for_rf_classifier = cross_val_score(rf_classifier, X, y, cv=10).mean()\n",
    "    CVS.append(CVS_for_rf_classifier)\n",
    "    print 'CVS_for_rf_classifier, trees:', tree, CVS_for_rf_classifier"
   ]
  },
  {
   "cell_type": "code",
   "execution_count": 63,
   "metadata": {},
   "outputs": [
    {
     "data": {
      "text/plain": [
       "[<matplotlib.lines.Line2D at 0x7f37caf9df50>]"
      ]
     },
     "execution_count": 63,
     "metadata": {},
     "output_type": "execute_result"
    },
    {
     "data": {
      "image/png": "[encoded data removed]",
      "text/plain": [
       "<Figure size 432x288 with 1 Axes>"
      ]
     },
     "metadata": {
      "needs_background": "light"
     },
     "output_type": "display_data"
    }
   ],
   "source": [
    "pylab.grid(True)\n",
    "pylab.plot(trees, CVS)\n",
    "# наблюдаем, что с ростом количества деревьев до 50 растет качество классификатора\n",
    "# потом качество стабилизируется"
   ]
  },
  {
   "cell_type": "markdown",
   "metadata": {},
   "source": [
    "4) При большом количестве признаков (для данного датасета - 40, 50) качество классификации становится хуже, чем при малом количестве признаков (5, 10). Это связано с тем, что чем меньше признаков выбирается в каждом узле, тем более различными получаются деревья (ведь деревья сильно неустойчивы к изменениям в обучающей выборке), и тем лучше работает их композиция.\n",
    "\n",
    "5) При большом количестве признаков (40, 50, 60) качество классификации лучше, чем при малом количестве признаков (5, 10). Это связано с тем, что чем больше признаков - тем больше информации об объектах, а значит алгоритм может делать прогнозы более точно.\n",
    "\n"
   ]
  },
  {
   "cell_type": "code",
   "execution_count": 69,
   "metadata": {},
   "outputs": [
    {
     "name": "stdout",
     "output_type": "stream",
     "text": [
      "CVS_for_rf_classifier, features: 5 0.947857960801082\n",
      "CVS_for_rf_classifier, features: 10 0.9505729427877379\n",
      "CVS_for_rf_classifier, features: 40 0.9399130307170525\n",
      "CVS_for_rf_classifier, features: 50 0.9321654247256177\n",
      "CVS_for_rf_classifier, features: 60 0.9254405869883632\n"
     ]
    }
   ],
   "source": [
    "# создаем цикл в котором на каждой итерации меняем количество признаков в вершинах для классификатора\n",
    "# класса RandomForestClassifier. полученные значения записываем\n",
    "features = [5, 10, 40, 50, 60]\n",
    "CVS = []\n",
    "for feature in features:\n",
    "    rf_classifier = RandomForestClassifier(n_estimators = 100, max_depth = 10, max_features = feature, random_state = 1)\n",
    "    CVS_for_rf_classifier = cross_val_score(rf_classifier, X, y, cv=10).mean()\n",
    "    CVS.append(CVS_for_rf_classifier)\n",
    "    print 'CVS_for_rf_classifier, features:', feature, CVS_for_rf_classifier"
   ]
  },
  {
   "cell_type": "code",
   "execution_count": 70,
   "metadata": {},
   "outputs": [
    {
     "data": {
      "text/plain": [
       "[<matplotlib.lines.Line2D at 0x7f37cae6ca10>]"
      ]
     },
     "execution_count": 70,
     "metadata": {},
     "output_type": "execute_result"
    },
    {
     "data": {
      "image/png": "[encoded data removed]",
      "text/plain": [
       "<Figure size 432x288 with 1 Axes>"
      ]
     },
     "metadata": {
      "needs_background": "light"
     },
     "output_type": "display_data"
    }
   ],
   "source": [
    "pylab.grid(True)\n",
    "pylab.plot(features, CVS)\n",
    "# наблюдаем, что с ростом гколичества признаков в вершинах деревьев качество классификатора\n",
    "# ухудшается"
   ]
  },
  {
   "cell_type": "markdown",
   "metadata": {},
   "source": [
    "6) При небольшой максимальной глубине деревьев (5-6) качество работы случайного леса намного лучше, чем без ограничения глубины, т.к. деревья получаются не переобученными. С ростом глубины деревьев качество ухудшается.\n",
    "\n",
    "7) При небольшой максимальной глубине деревьев (5-6) качество работы случайного леса заметно хуже, чем без ограничений, т.к. деревья получаются недообученными. С ростом глубины качество сначала улучшается, а затем не меняется существенно, т.к. из-за усреднения прогнозов и различий деревьев их переобученность в бэггинге не сказывается на итоговом качестве (все деревья преобучены по-разному, и при усреднении они компенсируют переобученность друг-друга).\n"
   ]
  },
  {
   "cell_type": "code",
   "execution_count": 66,
   "metadata": {},
   "outputs": [
    {
     "name": "stdout",
     "output_type": "stream",
     "text": [
      "CVS_for_rf_classifier, depth: 5 0.9131637566499888\n",
      "CVS_for_rf_classifier, depth: 10 0.9499538975818241\n",
      "CVS_for_rf_classifier, depth: 50 0.9572130012266203\n",
      "CVS_for_rf_classifier, depth: 100 0.9572130012266203\n"
     ]
    }
   ],
   "source": [
    "# создаем цикл в котором на каждой итерации меняем глубину деревьев для классификатора\n",
    "# класса RandomForestClassifier. полученные значения записываем\n",
    "depths = [5, 10, 50, 100]\n",
    "CVS = []\n",
    "for depth in depths:\n",
    "    rf_classifier = RandomForestClassifier(n_estimators = 100, max_depth = depth, random_state = 1)\n",
    "    CVS_for_rf_classifier = cross_val_score(rf_classifier, X, y, cv=10).mean()\n",
    "    CVS.append(CVS_for_rf_classifier)\n",
    "    print 'CVS_for_rf_classifier, depth:', depth, CVS_for_rf_classifier"
   ]
  },
  {
   "cell_type": "code",
   "execution_count": 67,
   "metadata": {},
   "outputs": [
    {
     "data": {
      "text/plain": [
       "[<matplotlib.lines.Line2D at 0x7f37cb106810>]"
      ]
     },
     "execution_count": 67,
     "metadata": {},
     "output_type": "execute_result"
    },
    {
     "data": {
      "image/png": "[encoded data removed]",
      "text/plain": [
       "<Figure size 432x288 with 1 Axes>"
      ]
     },
     "metadata": {
      "needs_background": "light"
     },
     "output_type": "display_data"
    }
   ],
   "source": [
    "pylab.grid(True)\n",
    "pylab.plot(depths, CVS)\n",
    "# наблюдаем, что с ростом глубины деревьев качество классификатора\n",
    "# улучшается а потом стабилизируется"
   ]
  },
  {
   "cell_type": "code",
   "execution_count": 71,
   "metadata": {},
   "outputs": [],
   "source": [
    "with open(\"random_forest_answer5.txt\", \"w\") as result:\n",
    "    result.write(str('2 3 4 7'))"
   ]
  },
  {
   "cell_type": "code",
   "execution_count": null,
   "metadata": {},
   "outputs": [],
   "source": [
    "# "
   ]
  }
 ],
 "metadata": {
  "kernelspec": {
   "display_name": "Python 2",
   "language": "python",
   "name": "python2"
  },
  "language_info": {
   "codemirror_mode": {
    "name": "ipython",
    "version": 2
   },
   "file_extension": ".py",
   "mimetype": "text/x-python",
   "name": "python",
   "nbconvert_exporter": "python",
   "pygments_lexer": "ipython2",
   "version": "2.7.16"
  }
 },
 "nbformat": 4,
 "nbformat_minor": 1
}
