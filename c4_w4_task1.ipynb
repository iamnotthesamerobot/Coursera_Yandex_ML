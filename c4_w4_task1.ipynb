{
 "cells": [
  {
   "cell_type": "markdown",
   "metadata": {},
   "source": [
    "# Обнаружение статистически значимых отличий в уровнях экспрессии генов больных раком"
   ]
  },
  {
   "cell_type": "markdown",
   "metadata": {},
   "source": [
    "Цель исследований — найти гены, средняя экспрессия которых отличается не только статистически значимо, но и достаточно сильно. В экспрессионных исследованиях для этого часто используется метрика, которая называется fold change (кратность изменения). Определяется она следующим образом:\n",
    "\n",
    "$Fc(C,T)= (T/C, где T>C) и (−C/T где  T<C)$\n",
    "\n",
    "$C,T$ — средние значения экспрессии гена в control и treatment группах соответственно. По сути, fold change показывает, во сколько раз отличаются средние двух выборок."
   ]
  },
  {
   "cell_type": "code",
   "execution_count": 1,
   "metadata": {},
   "outputs": [],
   "source": [
    "import pandas as pd\n",
    "import numpy as np\n",
    "\n",
    "from scipy.stats import wilcoxon\n",
    "from statsmodels.sandbox.stats.multicomp import multipletests "
   ]
  },
  {
   "cell_type": "code",
   "execution_count": 2,
   "metadata": {},
   "outputs": [
    {
     "name": "stdout",
     "output_type": "stream",
     "text": [
      "1.16.2\n",
      "0.24.2\n",
      "1.2.1\n"
     ]
    }
   ],
   "source": [
    "import scipy\n",
    "print(np.__version__)\n",
    "print(pd.__version__)\n",
    "print(scipy.__version__)"
   ]
  },
  {
   "cell_type": "markdown",
   "metadata": {},
   "source": [
    "#### Инструкции к решению задачи\n",
    "Задание состоит из трёх частей. Если не сказано обратное, то уровень значимости нужно принять равным 0.05."
   ]
  },
  {
   "cell_type": "markdown",
   "metadata": {},
   "source": [
    "#### Часть 1: применение t-критерия Стьюдента\n",
    "В первой части вам нужно будет применить критерий Стьюдента для проверки гипотезы о равенстве средних в двух независимых выборках. Применить критерий для каждого гена нужно будет дважды:\n",
    "\n",
    "1. для групп normal (control) и early neoplasia (treatment)\n",
    "2. для групп early neoplasia (control) и cancer (treatment)\n",
    "\n",
    "В качестве ответа в этой части задания необходимо указать количество статистически значимых отличий, которые вы нашли с помощью t-критерия Стьюдента, то есть число генов, у которых p-value этого теста оказался меньше, чем уровень значимости."
   ]
  },
  {
   "cell_type": "code",
   "execution_count": 3,
   "metadata": {},
   "outputs": [],
   "source": [
    "data = pd.read_csv('gene_high_throughput_sequencing.csv', sep = ',', header = 0)"
   ]
  },
  {
   "cell_type": "markdown",
   "metadata": {},
   "source": [
    "— проверяем данные на нормальность;\n",
    "— проверяем отличия с помощью статистического теста;\n",
    "— доверительным интервалом оцениваем масштаб (среднее при нормальности или медиана для ненормальности данных);"
   ]
  },
  {
   "cell_type": "code",
   "execution_count": 4,
   "metadata": {},
   "outputs": [
    {
     "data": {
      "text/html": [
       "<div>\n",
       "<style scoped>\n",
       "    .dataframe tbody tr th:only-of-type {\n",
       "        vertical-align: middle;\n",
       "    }\n",
       "\n",
       "    .dataframe tbody tr th {\n",
       "        vertical-align: top;\n",
       "    }\n",
       "\n",
       "    .dataframe thead th {\n",
       "        text-align: right;\n",
       "    }\n",
       "</style>\n",
       "<table border=\"1\" class=\"dataframe\">\n",
       "  <thead>\n",
       "    <tr style=\"text-align: right;\">\n",
       "      <th></th>\n",
       "      <th>Patient_id</th>\n",
       "      <th>Diagnosis</th>\n",
       "      <th>LOC643837</th>\n",
       "      <th>LOC100130417</th>\n",
       "      <th>SAMD11</th>\n",
       "      <th>NOC2L</th>\n",
       "      <th>KLHL17</th>\n",
       "      <th>PLEKHN1</th>\n",
       "      <th>C1orf170</th>\n",
       "      <th>HES4</th>\n",
       "      <th>...</th>\n",
       "      <th>CLIC2</th>\n",
       "      <th>RPS4Y1</th>\n",
       "      <th>ZFY</th>\n",
       "      <th>PRKY</th>\n",
       "      <th>USP9Y</th>\n",
       "      <th>DDX3Y</th>\n",
       "      <th>CD24</th>\n",
       "      <th>CYorf15B</th>\n",
       "      <th>KDM5D</th>\n",
       "      <th>EIF1AY</th>\n",
       "    </tr>\n",
       "  </thead>\n",
       "  <tbody>\n",
       "    <tr>\n",
       "      <th>0</th>\n",
       "      <td>STT5425_Breast_001_normal</td>\n",
       "      <td>normal</td>\n",
       "      <td>1.257614</td>\n",
       "      <td>2.408148</td>\n",
       "      <td>13.368622</td>\n",
       "      <td>9.494779</td>\n",
       "      <td>20.880435</td>\n",
       "      <td>12.722017</td>\n",
       "      <td>9.494779</td>\n",
       "      <td>54.349694</td>\n",
       "      <td>...</td>\n",
       "      <td>4.761250</td>\n",
       "      <td>1.257614</td>\n",
       "      <td>1.257614</td>\n",
       "      <td>1.257614</td>\n",
       "      <td>1.257614</td>\n",
       "      <td>1.257614</td>\n",
       "      <td>23.268694</td>\n",
       "      <td>1.257614</td>\n",
       "      <td>1.257614</td>\n",
       "      <td>1.257614</td>\n",
       "    </tr>\n",
       "    <tr>\n",
       "      <th>1</th>\n",
       "      <td>STT5427_Breast_023_normal</td>\n",
       "      <td>normal</td>\n",
       "      <td>4.567931</td>\n",
       "      <td>16.602734</td>\n",
       "      <td>42.477752</td>\n",
       "      <td>25.562376</td>\n",
       "      <td>23.221137</td>\n",
       "      <td>11.622386</td>\n",
       "      <td>14.330573</td>\n",
       "      <td>72.445474</td>\n",
       "      <td>...</td>\n",
       "      <td>6.871902</td>\n",
       "      <td>1.815112</td>\n",
       "      <td>1.815112</td>\n",
       "      <td>1.815112</td>\n",
       "      <td>1.815112</td>\n",
       "      <td>1.815112</td>\n",
       "      <td>10.427023</td>\n",
       "      <td>1.815112</td>\n",
       "      <td>1.815112</td>\n",
       "      <td>1.815112</td>\n",
       "    </tr>\n",
       "    <tr>\n",
       "      <th>2</th>\n",
       "      <td>STT5430_Breast_002_normal</td>\n",
       "      <td>normal</td>\n",
       "      <td>2.077597</td>\n",
       "      <td>3.978294</td>\n",
       "      <td>12.863214</td>\n",
       "      <td>13.728915</td>\n",
       "      <td>14.543176</td>\n",
       "      <td>14.141907</td>\n",
       "      <td>6.232790</td>\n",
       "      <td>57.011005</td>\n",
       "      <td>...</td>\n",
       "      <td>7.096343</td>\n",
       "      <td>2.077597</td>\n",
       "      <td>2.077597</td>\n",
       "      <td>2.077597</td>\n",
       "      <td>2.077597</td>\n",
       "      <td>2.077597</td>\n",
       "      <td>22.344226</td>\n",
       "      <td>2.077597</td>\n",
       "      <td>2.077597</td>\n",
       "      <td>2.077597</td>\n",
       "    </tr>\n",
       "    <tr>\n",
       "      <th>3</th>\n",
       "      <td>STT5439_Breast_003_normal</td>\n",
       "      <td>normal</td>\n",
       "      <td>2.066576</td>\n",
       "      <td>8.520713</td>\n",
       "      <td>14.466035</td>\n",
       "      <td>7.823932</td>\n",
       "      <td>8.520713</td>\n",
       "      <td>2.066576</td>\n",
       "      <td>10.870009</td>\n",
       "      <td>53.292034</td>\n",
       "      <td>...</td>\n",
       "      <td>5.200770</td>\n",
       "      <td>2.066576</td>\n",
       "      <td>2.066576</td>\n",
       "      <td>2.066576</td>\n",
       "      <td>2.066576</td>\n",
       "      <td>2.066576</td>\n",
       "      <td>49.295538</td>\n",
       "      <td>2.066576</td>\n",
       "      <td>2.066576</td>\n",
       "      <td>2.066576</td>\n",
       "    </tr>\n",
       "    <tr>\n",
       "      <th>4</th>\n",
       "      <td>STT5441_Breast_004_normal</td>\n",
       "      <td>normal</td>\n",
       "      <td>2.613616</td>\n",
       "      <td>3.434965</td>\n",
       "      <td>12.682222</td>\n",
       "      <td>10.543189</td>\n",
       "      <td>26.688686</td>\n",
       "      <td>12.484822</td>\n",
       "      <td>1.364917</td>\n",
       "      <td>67.140393</td>\n",
       "      <td>...</td>\n",
       "      <td>11.227770</td>\n",
       "      <td>1.364917</td>\n",
       "      <td>1.364917</td>\n",
       "      <td>1.364917</td>\n",
       "      <td>1.364917</td>\n",
       "      <td>1.364917</td>\n",
       "      <td>23.627911</td>\n",
       "      <td>1.364917</td>\n",
       "      <td>1.364917</td>\n",
       "      <td>1.364917</td>\n",
       "    </tr>\n",
       "  </tbody>\n",
       "</table>\n",
       "<p>5 rows × 15750 columns</p>\n",
       "</div>"
      ],
      "text/plain": [
       "                  Patient_id Diagnosis  LOC643837  LOC100130417     SAMD11  \\\n",
       "0  STT5425_Breast_001_normal    normal   1.257614      2.408148  13.368622   \n",
       "1  STT5427_Breast_023_normal    normal   4.567931     16.602734  42.477752   \n",
       "2  STT5430_Breast_002_normal    normal   2.077597      3.978294  12.863214   \n",
       "3  STT5439_Breast_003_normal    normal   2.066576      8.520713  14.466035   \n",
       "4  STT5441_Breast_004_normal    normal   2.613616      3.434965  12.682222   \n",
       "\n",
       "       NOC2L     KLHL17    PLEKHN1   C1orf170       HES4  ...      CLIC2  \\\n",
       "0   9.494779  20.880435  12.722017   9.494779  54.349694  ...   4.761250   \n",
       "1  25.562376  23.221137  11.622386  14.330573  72.445474  ...   6.871902   \n",
       "2  13.728915  14.543176  14.141907   6.232790  57.011005  ...   7.096343   \n",
       "3   7.823932   8.520713   2.066576  10.870009  53.292034  ...   5.200770   \n",
       "4  10.543189  26.688686  12.484822   1.364917  67.140393  ...  11.227770   \n",
       "\n",
       "     RPS4Y1       ZFY      PRKY     USP9Y     DDX3Y       CD24  CYorf15B  \\\n",
       "0  1.257614  1.257614  1.257614  1.257614  1.257614  23.268694  1.257614   \n",
       "1  1.815112  1.815112  1.815112  1.815112  1.815112  10.427023  1.815112   \n",
       "2  2.077597  2.077597  2.077597  2.077597  2.077597  22.344226  2.077597   \n",
       "3  2.066576  2.066576  2.066576  2.066576  2.066576  49.295538  2.066576   \n",
       "4  1.364917  1.364917  1.364917  1.364917  1.364917  23.627911  1.364917   \n",
       "\n",
       "      KDM5D    EIF1AY  \n",
       "0  1.257614  1.257614  \n",
       "1  1.815112  1.815112  \n",
       "2  2.077597  2.077597  \n",
       "3  2.066576  2.066576  \n",
       "4  1.364917  1.364917  \n",
       "\n",
       "[5 rows x 15750 columns]"
      ]
     },
     "execution_count": 4,
     "metadata": {},
     "output_type": "execute_result"
    }
   ],
   "source": [
    "data.head()"
   ]
  },
  {
   "cell_type": "code",
   "execution_count": 5,
   "metadata": {},
   "outputs": [
    {
     "name": "stdout",
     "output_type": "stream",
     "text": [
      "<class 'pandas.core.frame.DataFrame'>\n",
      "RangeIndex: 72 entries, 0 to 71\n",
      "Columns: 15750 entries, Patient_id to EIF1AY\n",
      "dtypes: float64(15748), object(2)\n",
      "memory usage: 8.7+ MB\n"
     ]
    }
   ],
   "source": [
    "data.info() "
   ]
  },
  {
   "cell_type": "code",
   "execution_count": 6,
   "metadata": {},
   "outputs": [
    {
     "name": "stdout",
     "output_type": "stream",
     "text": [
      "['normal' 'early neoplasia' 'cancer'] LOC643837\n"
     ]
    }
   ],
   "source": [
    "diagnosis = data['Diagnosis'].unique()\n",
    "columns = data.columns[2:]\n",
    "print diagnosis, columns[0]"
   ]
  },
  {
   "cell_type": "code",
   "execution_count": 7,
   "metadata": {},
   "outputs": [],
   "source": [
    "pairs = [['normal', 'early neoplasia'], ['early neoplasia', 'cancer']] "
   ]
  },
  {
   "cell_type": "code",
   "execution_count": 8,
   "metadata": {},
   "outputs": [],
   "source": [
    "from scipy import stats"
   ]
  },
  {
   "cell_type": "code",
   "execution_count": 21,
   "metadata": {},
   "outputs": [
    {
     "name": "stdout",
     "output_type": "stream",
     "text": [
      "normal 0.48916447738314883\n",
      "early neoplasia 0.5025248753479753\n",
      "cancer 0.45944759206232083\n",
      "CPU times: user 2min 57s, sys: 877 ms, total: 2min 58s\n",
      "Wall time: 2min 59s\n"
     ]
    }
   ],
   "source": [
    "%%time\n",
    "for one in diagnosis:\n",
    "    ppp= []\n",
    "    for i in range(len(columns)):\n",
    "        statistic, pvalue = stats.shapiro(data.loc[data.Diagnosis == one, columns[i]])\n",
    "        ppp.append(pvalue)\n",
    "    _, p_corr_fdr_bh, _, _ = multipletests(ppp, method='fdr_bh')\n",
    "    print one, np.mean(p_corr_fdr_bh)\n",
    "        "
   ]
  },
  {
   "cell_type": "markdown",
   "metadata": {},
   "source": [
    "полученные значения существенно больше 0.05. данные на нормальность проверены. можно применять критерий Стьюдента"
   ]
  },
  {
   "cell_type": "code",
   "execution_count": 14,
   "metadata": {},
   "outputs": [
    {
     "name": "stdout",
     "output_type": "stream",
     "text": [
      "['normal', 'early neoplasia'] 1575\n",
      "['early neoplasia', 'cancer'] 3490\n",
      "CPU times: user 3min 45s, sys: 1 s, total: 3min 46s\n",
      "Wall time: 3min 46s\n"
     ]
    }
   ],
   "source": [
    "%%time\n",
    "n_en = []\n",
    "en_c = []\n",
    "for pair in pairs:\n",
    "    n = 0\n",
    "    for i in range(len(columns)):\n",
    "        stat, p_value = stats.ttest_ind(data.loc[data.Diagnosis == pair[0], columns[i]], \n",
    "                            data.loc[data.Diagnosis == pair[1], columns[i]], \n",
    "                            equal_var = False)\n",
    "        # нужно обратить нимание, что equal_var = False не предполагает одинаков дисп \n",
    "        if p_value < 0.05:\n",
    "            n += 1\n",
    "        if pair == pairs[0]:\n",
    "            n_en.append(p_value)\n",
    "        if pair == pairs[1]:\n",
    "            en_c.append(p_value)\n",
    "            \n",
    "    print pair, n"
   ]
  },
  {
   "cell_type": "code",
   "execution_count": 15,
   "metadata": {},
   "outputs": [],
   "source": [
    "with open('c4_w4_1.txt', 'w') as answer:\n",
    "    answer.write(str(1575))\n",
    "with open('c4_w4_2.txt', 'w') as answer:\n",
    "    answer.write(str(3490))"
   ]
  },
  {
   "cell_type": "code",
   "execution_count": 16,
   "metadata": {},
   "outputs": [],
   "source": [
    "import pickle\n",
    "# define a list of places\n",
    "with open('n_en_p_values.data', 'wb') as filehandle:\n",
    "    # store the data as binary data stream\n",
    "    pickle.dump(n_en, filehandle)\n",
    "with open('en_c_p_values.data', 'wb') as filehandle:\n",
    "    # store the data as binary data stream\n",
    "    pickle.dump(en_c, filehandle)"
   ]
  },
  {
   "cell_type": "markdown",
   "metadata": {},
   "source": [
    "#### Часть 2: поправка методом Холма\n",
    "\n",
    "Для этой части задания вам понадобится модуль multitest из statsmodels.\n",
    "\n",
    "В этой части задания нужно будет применить поправку Холма для получившихся двух наборов достигаемых уровней значимости из предыдущей части. Обратите внимание, что поскольку вы будете делать поправку для каждого из двух наборов p-value отдельно, то проблема, связанная с множественной проверкой останется.\n",
    "\n",
    "Для того, чтобы ее устранить, достаточно воспользоваться $поправкой$ $Бонферрони$, то есть использовать уровень значимости $0.05/2$ вместо $0.05$ для дальнейшего уточнения значений p-value c помощью метода Холма.\n",
    "\n",
    "В качестве ответа к этому заданию требуется ввести количество значимых отличий в каждой группе после того, как произведена коррекция $Холма-Бонферрони$. Причем это число нужно ввести с учетом практической значимости: посчитайте для каждого значимого изменения $fold$ $change$ и выпишите в ответ число таких значимых изменений, абсолютное значение $fold$ $change$ которых больше, чем $1.5$.\n",
    "\n",
    "Обратите внимание, что применять поправку на множественную проверку нужно ко всем значениям достигаемых уровней значимости, а не только для тех, которые меньше значения уровня доверия.\n",
    "при использовании поправки на уровне значимости $0.025$ меняются значения достигаемого уровня значимости, но не меняется значение уровня доверия (то есть для отбора значимых изменений скорректированные значения уровня значимости нужно сравнивать с порогом $0.025$, а не $0.05$)!"
   ]
  },
  {
   "cell_type": "code",
   "execution_count": 17,
   "metadata": {},
   "outputs": [],
   "source": [
    "import statsmodels.stats.multitest as smm"
   ]
  },
  {
   "cell_type": "markdown",
   "metadata": {},
   "source": [
    "1. if treatment > control => fold_change = treatment / control\n",
    "2. if treatment < control => fold_change = -(control / treatment) \n",
    "3. normal (control) & early neoplasia (treatment)\n",
    "4. early neoplasia (control) & cancer (treatment)\n",
    "5. fold_change > 1.5"
   ]
  },
  {
   "cell_type": "code",
   "execution_count": 5,
   "metadata": {},
   "outputs": [],
   "source": [
    "import pickle\n",
    "with open('n_en_p_values.data', 'rb') as filehandle:\n",
    "    # read the data as binary data stream\n",
    "    n_en_p_values = pickle.load(filehandle)\n",
    "with open('en_c_p_values.data', 'rb') as filehandle:\n",
    "    # read the data as binary data stream\n",
    "    en_c_p_values = pickle.load(filehandle)"
   ]
  },
  {
   "cell_type": "code",
   "execution_count": 28,
   "metadata": {},
   "outputs": [
    {
     "name": "stdout",
     "output_type": "stream",
     "text": [
      "['normal', 'early neoplasia'] 2\n",
      "['early neoplasia', 'cancer'] 77\n"
     ]
    }
   ],
   "source": [
    "# коррекция Холма\n",
    "reject, pvals_corrected_holm_n_en, alphacSidak, alphacBonf = multipletests(n_en_p_values, method='holm')\n",
    "reject, pvals_corrected_holm_en_c, alphacSidak, alphacBonf = multipletests(en_c_p_values, method='holm')\n",
    "\n",
    "# коррекция Бонферрони\n",
    "p_corr = np.array([pvals_corrected_holm_n_en, pvals_corrected_holm_en_c])\n",
    "reject, p_corr_bonf, alphacSidak, alphacBonf = multipletests(p_corr, is_sorted=True, method='bonferroni')\n",
    "\n",
    "columns = data.columns[2:]\n",
    "pairs = [['normal', 'early neoplasia'], ['early neoplasia', 'cancer']]\n",
    "\n",
    "for j in range(2):\n",
    "    n = 0\n",
    "    for i in range(len(p_corr_bonf[j])):\n",
    "        if p_corr_bonf[j][i] < 0.05:\n",
    "            control = data.loc[data.Diagnosis == pairs[j][0], columns[i]].mean()\n",
    "            treatment = data.loc[data.Diagnosis == pairs[j][1], columns[i]].mean()\n",
    "            if treatment > control:\n",
    "                if treatment / control > 1.5:\n",
    "                    n += 1\n",
    "            elif treatment < control:\n",
    "                if control / treatment > 1.5:\n",
    "                    n += 1\n",
    "    \n",
    "    print pairs[j], n\n",
    "    "
   ]
  },
  {
   "cell_type": "code",
   "execution_count": 26,
   "metadata": {},
   "outputs": [],
   "source": [
    "with open('c4_w4_3.txt', 'w') as answer:\n",
    "    answer.write('2')\n",
    "with open('c4_w4_4.txt', 'w') as answer:\n",
    "    answer.write('77')"
   ]
  },
  {
   "cell_type": "markdown",
   "metadata": {},
   "source": [
    "#### Часть 3: поправка методом Бенджамини-Хохберга\n",
    "\n",
    "Данная часть задания аналогична второй части за исключением того, что нужно будет использовать метод Бенджамини-Хохберга.\n",
    "\n",
    "Обратите внимание, что методы коррекции, которые контролируют FDR, допускает больше ошибок первого рода и имеют большую мощность, чем методы, контролирующие FWER. Большая мощность означает, что эти методы будут совершать меньше ошибок второго рода (то есть будут лучше улавливать отклонения от $H_0$ , когда они есть, и будут чаще отклонять $H_0$ , когда отличий нет).\n",
    "\n",
    "В качестве ответа к этому заданию требуется ввести количество значимых отличий в каждой группе после того, как произведена коррекция Бенджамини-Хохберга, причем так же, как и во второй части, считать только такие отличия, у которых $abs(fold change) > 1.5$."
   ]
  },
  {
   "cell_type": "code",
   "execution_count": 30,
   "metadata": {},
   "outputs": [
    {
     "name": "stdout",
     "output_type": "stream",
     "text": [
      "['normal', 'early neoplasia'] 4\n",
      "['early neoplasia', 'cancer'] 524\n"
     ]
    }
   ],
   "source": [
    "# коррекция Бенджамини-Хохберга\n",
    "reject, pvals_corrected_bh_n_en, alphacSidak, alphacBonf = multipletests(n_en_p_values, method='fdr_bh')\n",
    "reject, pvals_corrected_bh_en_c, alphacSidak, alphacBonf = multipletests(en_c_p_values, method='fdr_bh')\n",
    "\n",
    "# коррекция Бонферрони\n",
    "p_corr = np.array([pvals_corrected_bh_n_en, pvals_corrected_bh_en_c])\n",
    "reject, p_corr_bonf, alphacSidak, alphacBonf = multipletests(p_corr, is_sorted=True, method='bonferroni')\n",
    "\n",
    "columns = data.columns[2:]\n",
    "pairs = [['normal', 'early neoplasia'], ['early neoplasia', 'cancer']]\n",
    "\n",
    "for j in range(2):\n",
    "    n = 0\n",
    "    for i in range(len(p_corr_bonf[j])):\n",
    "        if p_corr_bonf[j][i] < 0.05:\n",
    "            control = data.loc[data.Diagnosis == pairs[j][0], columns[i]].mean()\n",
    "            treatment = data.loc[data.Diagnosis == pairs[j][1], columns[i]].mean()\n",
    "            if treatment > control:\n",
    "                if treatment / control > 1.5:\n",
    "                    n += 1\n",
    "            elif treatment < control:\n",
    "                if control / treatment > 1.5:\n",
    "                    n += 1\n",
    "    \n",
    "    print pairs[j], n\n",
    "    "
   ]
  },
  {
   "cell_type": "code",
   "execution_count": 31,
   "metadata": {},
   "outputs": [],
   "source": [
    "with open('c4_w4_5.txt', 'w') as answer:\n",
    "    answer.write('4')\n",
    "with open('c4_w4_6.txt', 'w') as answer:\n",
    "    answer.write('524')"
   ]
  }
 ],
 "metadata": {
  "anaconda-cloud": {},
  "kernelspec": {
   "display_name": "Python 3",
   "language": "python",
   "name": "python3"
  },
  "language_info": {
   "codemirror_mode": {
    "name": "ipython",
    "version": 2
   },
   "file_extension": ".py",
   "mimetype": "text/x-python",
   "name": "python",
   "nbconvert_exporter": "python",
   "pygments_lexer": "ipython2",
   "version": "2.7.16"
  }
 },
 "nbformat": 4,
 "nbformat_minor": 1
}
